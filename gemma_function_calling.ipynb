{
  "cells": [
    {
      "cell_type": "markdown",
      "metadata": {
        "id": "FeXHC2gNKXKV"
      },
      "source": [
        "# Google Gemma 3 27B Function Calling Example\n",
        "\n",
        "Google Gemma 3 27B It is an open, multilingual, multimodal Vision-Language model. It handles context windows up to 128k tokens, understands over 140 languages, and offers improved math, reasoning, and chat capabilities, including structured outputs and function calling.\n",
        "\n",
        "Gemma 3 can be used for agentic workflows and has very strong instruction following capabilities. While there are no dedicated tool/function calling special tokens, you can prompt it to do function calling through careful instruction. Gemma 3 27B is available via [AI Studio](https://aistudio.google.com/prompts/new_chat?model=gemma-3-27b-it) and the Gen AI API. Get an API key from [AI Studio](https://aistudio.google.com/apikey) and use it to make requests to the Gen AI API.\n",
        "\n",
        "Below is an example of how to use function calling with Gemma 3 27B It. In this example the first user message includes the general instruction how and when to use function calling and example flow. The prompt with the Gemma 3 template would look like this:\n",
        "\n",
        "1. Send user message with instructions and function definitons and first user message.\n",
        "\n",
        "```\n",
        "<bos><start_of_turn>user\n",
        "At each turn, if you decide to invoke any of the function(s), it should be wrapped with ```tool_code```. The python methods described below are imported and available, you can only use defined methods. The generated code should be readable and efficient. The response to a method will be wrapped in ```tool_output``` use it to call more tools or generate a helpful, friendly response. When using a ```tool_call``` think step by step why and how it should be used.\n",
        "\n",
        "The following Python methods are available:\n",
        "\n",
        "\\`\\`\\`python\n",
        "def convert(amount: float, currency: str, new_currency: str) -> float:\n",
        "    \"\"\"Convert the currency with the latest exchange rate\n",
        "\n",
        "    Args:\n",
        "      amount: The amount of currency to convert\n",
        "      currency: The currency to convert from\n",
        "      new_currency: The currency to convert to\n",
        "    \"\"\"\n",
        "\\`\\`\\`\n",
        "\n",
        "User: {{user_message}}<end_of_turn>\n",
        "<start_of_turn>model\n",
        "```\n",
        "\n",
        "3. Handle Model response when a tool/function is used.\n",
        "\n",
        "```\n",
        "Okay, I need to convert $200,000 to EUR. I will use the `convert` function for this.\n",
        "\\`\\`\\`tool_code\n",
        "convert(amount=200000.0, currency=\"USD\", new_currency=\"EUR\")\n",
        "\\`\\`\\`\n",
        "```\n",
        "\n",
        "4. Execute local function and create tool output string\n",
        "\n",
        "```\n",
        "\\`\\`\\`tool_output\n",
        "180000.0\n",
        "\\`\\`\\`\n",
        "```\n",
        "\n",
        "5. Send the tool output as new request to the model\n",
        "\n",
        "```\n",
        "<bos><start_of_turn>user\n",
        "At each turn, if you decide to invoke any of the function(s), it should be wrapped with ```tool_code```. The python methods described below are imported and available, you can only use defined methods. The generated code should be readable and efficient. The response to a method will be wrapped in ```tool_output``` use it to call more tools or generate a helpful, friendly response. When using a ```tool_call``` think step by step why and how it should be used.\n",
        "\n",
        "The following Python methods are available:\n",
        "\n",
        "\\`\\`\\`python\n",
        "def convert(amount: float, currency: str, new_currency: str) -> float:\n",
        "    \"\"\"Convert the currency with the latest exchange rate\n",
        "\n",
        "    Args:\n",
        "      amount: The amount of currency to convert\n",
        "      currency: The currency to convert from\n",
        "      new_currency: The currency to convert to\n",
        "    \"\"\"\n",
        "\\`\\`\\`\n",
        "\n",
        "User: {{user_message}}<end_of_turn>\n",
        "<start_of_turn>model\n",
        "Okay, I need to convert $200,000 to EUR. I will use the `convert` function for this.\n",
        "\\`\\`\\`tool_code\n",
        "convert(amount=200000.0, currency=\"USD\", new_currency=\"EUR\")\n",
        "\\`\\`\\`<end_of_turn>\n",
        "<start_of_turn>user\n",
        "\\`\\`\\`tool_output\n",
        "180000.0\n",
        "\\`\\`\\`<end_of_turn>\n",
        "<start_of_turn>model\n",
        "```\n",
        "\n",
        "6. Final Response: `$200,000 is equivalent to €180,000. Is there anything else I can help you with?`\n",
        "\n",
        "\n",
        "Now, let's test this using the GenAI API. If you want to do this locally with, e.g. ollama. You can use the prompts and simulate the function execution.\n"
      ]
    },
    {
      "cell_type": "code",
      "execution_count": 2,
      "metadata": {
        "colab": {
          "base_uri": "https://localhost:8080/"
        },
        "id": "NfqLra0QKXKY",
        "outputId": "7715bdb6-b09c-4387-f210-94e020ea5fb6"
      },
      "outputs": [
        {
          "output_type": "stream",
          "name": "stdout",
          "text": [
            "Requirement already satisfied: google-genai in /usr/local/lib/python3.11/dist-packages (1.4.0)\n",
            "Requirement already satisfied: google-auth<3.0.0dev,>=2.14.1 in /usr/local/lib/python3.11/dist-packages (from google-genai) (2.38.0)\n",
            "Requirement already satisfied: httpx<1.0.0dev,>=0.28.1 in /usr/local/lib/python3.11/dist-packages (from google-genai) (0.28.1)\n",
            "Requirement already satisfied: pydantic<3.0.0dev,>=2.0.0 in /usr/local/lib/python3.11/dist-packages (from google-genai) (2.10.6)\n",
            "Requirement already satisfied: requests<3.0.0dev,>=2.28.1 in /usr/local/lib/python3.11/dist-packages (from google-genai) (2.32.3)\n",
            "Requirement already satisfied: websockets<15.0dev,>=13.0 in /usr/local/lib/python3.11/dist-packages (from google-genai) (14.2)\n",
            "Requirement already satisfied: typing-extensions<5.0.0dev,>=4.11.0 in /usr/local/lib/python3.11/dist-packages (from google-genai) (4.12.2)\n",
            "Requirement already satisfied: cachetools<6.0,>=2.0.0 in /usr/local/lib/python3.11/dist-packages (from google-auth<3.0.0dev,>=2.14.1->google-genai) (5.5.2)\n",
            "Requirement already satisfied: pyasn1-modules>=0.2.1 in /usr/local/lib/python3.11/dist-packages (from google-auth<3.0.0dev,>=2.14.1->google-genai) (0.4.1)\n",
            "Requirement already satisfied: rsa<5,>=3.1.4 in /usr/local/lib/python3.11/dist-packages (from google-auth<3.0.0dev,>=2.14.1->google-genai) (4.9)\n",
            "Requirement already satisfied: anyio in /usr/local/lib/python3.11/dist-packages (from httpx<1.0.0dev,>=0.28.1->google-genai) (3.7.1)\n",
            "Requirement already satisfied: certifi in /usr/local/lib/python3.11/dist-packages (from httpx<1.0.0dev,>=0.28.1->google-genai) (2025.1.31)\n",
            "Requirement already satisfied: httpcore==1.* in /usr/local/lib/python3.11/dist-packages (from httpx<1.0.0dev,>=0.28.1->google-genai) (1.0.7)\n",
            "Requirement already satisfied: idna in /usr/local/lib/python3.11/dist-packages (from httpx<1.0.0dev,>=0.28.1->google-genai) (3.10)\n",
            "Requirement already satisfied: h11<0.15,>=0.13 in /usr/local/lib/python3.11/dist-packages (from httpcore==1.*->httpx<1.0.0dev,>=0.28.1->google-genai) (0.14.0)\n",
            "Requirement already satisfied: annotated-types>=0.6.0 in /usr/local/lib/python3.11/dist-packages (from pydantic<3.0.0dev,>=2.0.0->google-genai) (0.7.0)\n",
            "Requirement already satisfied: pydantic-core==2.27.2 in /usr/local/lib/python3.11/dist-packages (from pydantic<3.0.0dev,>=2.0.0->google-genai) (2.27.2)\n",
            "Requirement already satisfied: charset-normalizer<4,>=2 in /usr/local/lib/python3.11/dist-packages (from requests<3.0.0dev,>=2.28.1->google-genai) (3.4.1)\n",
            "Requirement already satisfied: urllib3<3,>=1.21.1 in /usr/local/lib/python3.11/dist-packages (from requests<3.0.0dev,>=2.28.1->google-genai) (2.3.0)\n",
            "Requirement already satisfied: pyasn1<0.7.0,>=0.4.6 in /usr/local/lib/python3.11/dist-packages (from pyasn1-modules>=0.2.1->google-auth<3.0.0dev,>=2.14.1->google-genai) (0.6.1)\n",
            "Requirement already satisfied: sniffio>=1.1 in /usr/local/lib/python3.11/dist-packages (from anyio->httpx<1.0.0dev,>=0.28.1->google-genai) (1.3.1)\n"
          ]
        }
      ],
      "source": [
        "!pip install google-genai"
      ]
    },
    {
      "cell_type": "markdown",
      "metadata": {
        "id": "t472W829KXKY"
      },
      "source": [
        "Then we create our `client`, define Gemma as model id and create a helper method `extract_tool_call`. This method parses the model responses and checks if there is a \\`\\`\\`tool_code\\`\\`\\`. If there is one it uses the `eval` method to run it, extract the result and create a \\`\\`\\`tool_output\\`\\`\\`.\n",
        "\n",
        "_Note: We use `eval` only for demonstration purposes if you plan to use this in production you should add more security and safety as it will execute model generated code in your environment._"
      ]
    },
    {
      "cell_type": "code",
      "execution_count": 3,
      "metadata": {
        "id": "Gm_uC2caKXKZ"
      },
      "outputs": [],
      "source": [
        "import os\n",
        "from google import genai\n",
        "import re\n",
        "# create client\n",
        "api_key = os.getenv(\"GEMINI_API_KEY\", \"PLACE_YOUR_API_KEY_HERE\" ) #\n",
        "client = genai.Client(api_key=api_key)\n",
        "\n",
        "# speicfy the model id\n",
        "model_id = \"gemma-3-27b-it\"\n",
        "\n",
        "# extract the tool call from the response\n",
        "def extract_tool_call(text):\n",
        "    import io\n",
        "    from contextlib import redirect_stdout\n",
        "\n",
        "    pattern = r\"```tool_code\\s*(.*?)\\s*```\"\n",
        "    match = re.search(pattern, text, re.DOTALL)\n",
        "    if match:\n",
        "        code = match.group(1).strip()\n",
        "        # Capture stdout in a string buffer\n",
        "        f = io.StringIO()\n",
        "        with redirect_stdout(f):\n",
        "            result = eval(code)\n",
        "        output = f.getvalue()\n",
        "        r = result if output == '' else output\n",
        "        return f'```tool_output\\n{str(r).strip()}\\n```'''\n",
        "    return None\n"
      ]
    },
    {
      "cell_type": "markdown",
      "metadata": {
        "id": "UlCfcxF5KXKZ"
      },
      "source": [
        "Next, we define a simple example for a function we want to use. Here is is a `convert` method that simulates the conversion calcuation of currencies. Since we use `eval` the method we want to use for function calling needs to be available in the environment.\n",
        "\n",
        "We define our first user prompt including our instructions and function signature with a docstring and args and a template string for our user message."
      ]
    },
    {
      "cell_type": "code",
      "execution_count": 19,
      "metadata": {
        "id": "t3TM41LdKXKZ"
      },
      "outputs": [],
      "source": [
        "def convert(amount: float, currency: str, new_currency: str) -> float:\n",
        "  # demo implementation\n",
        "  return amount * 7.23\n",
        "\n",
        "\n",
        "def get_exchange_rate(currency: str, new_currency: str) -> float:\n",
        "    # demo implementation\n",
        "    return 0.14\n",
        "\n",
        "instruction_prompt_with_function_calling = '''At each turn, if you decide to invoke any of the function(s), it should be wrapped with ```tool_code```. The python methods described below are imported and available, you can only use defined methods. The generated code should be readable and efficient. The response to a method will be wrapped in ```tool_output``` use it to call more tools or generate a helpful, friendly response. When using a ```tool_call``` think step by step why and how it should be used.\n",
        "\n",
        "The following Python methods are available:\n",
        "\n",
        "```python\n",
        "def convert(amount: float, currency: str, new_currency: str) -> float:\n",
        "    \"\"\"Convert the currency with the latest exchange rate\n",
        "\n",
        "    Args:\n",
        "      amount: The amount of currency to convert\n",
        "      currency: The currency to convert from\n",
        "      new_currency: The currency to convert to\n",
        "    \"\"\"\n",
        "\n",
        "def get_exchange_rate(currency: str, new_currency: str) -> float:\n",
        "    \"\"\"Get the latest exchange rate for the currency pair\n",
        "\n",
        "    Args:\n",
        "      currency: The currency to convert from\n",
        "      new_currency: The currency to convert to\n",
        "    \"\"\"\n",
        "```\n",
        "\n",
        "User: {user_message}\n",
        "'''"
      ]
    },
    {
      "cell_type": "markdown",
      "metadata": {
        "id": "kC8P1aW3KXKa"
      },
      "source": [
        "The `genai` SDK supports stateful chat session, which makes it quite easy to test our example as we can easily append the different messages. First, we start with a simple greeting to see what Gemma does."
      ]
    },
    {
      "cell_type": "code",
      "execution_count": 20,
      "metadata": {
        "colab": {
          "base_uri": "https://localhost:8080/"
        },
        "id": "mb03KknkKXKa",
        "outputId": "440cac85-b521-4aea-a864-b06ce9808400"
      },
      "outputs": [
        {
          "output_type": "stream",
          "name": "stdout",
          "text": [
            "Hello! How can I help you today? Do you need a currency conversion or an exchange rate?\n",
            "\n"
          ]
        }
      ],
      "source": [
        "chat = client.chats.create(model=model_id)\n",
        "\n",
        "response = chat.send_message(instruction_prompt_with_function_calling.format(user_message=\"hello\"))\n",
        "print(response.text)"
      ]
    },
    {
      "cell_type": "markdown",
      "metadata": {
        "id": "hdou6p-BKXKb"
      },
      "source": [
        "Nice! it greeted us back and didn't use any function call. Okay now lets ask it to convert some currency."
      ]
    },
    {
      "cell_type": "code",
      "execution_count": 21,
      "metadata": {
        "colab": {
          "base_uri": "https://localhost:8080/"
        },
        "id": "dPEx6iZ9KXKb",
        "outputId": "90037b12-c7b9-4b24-dc44-3e3555734c10"
      },
      "outputs": [
        {
          "output_type": "stream",
          "name": "stdout",
          "text": [
            "Okay, I need to convert $200,000 USD to Chinese Yuan (RMB). I will use the `convert` function for this.\n",
            "\n",
            "```tool_code\n",
            "convert(amount=200000.0, currency=\"USD\", new_currency=\"RMB\")\n",
            "```\n"
          ]
        }
      ],
      "source": [
        "response = chat.send_message(\"What is $200,000 in RMB?\")\n",
        "print(response.text)"
      ]
    },
    {
      "cell_type": "markdown",
      "metadata": {
        "id": "4P7VFJR9KXKb"
      },
      "source": [
        "Great! it generated out ```tool_code```, which we can now use and extract and to cool our method."
      ]
    },
    {
      "cell_type": "code",
      "execution_count": 22,
      "metadata": {
        "colab": {
          "base_uri": "https://localhost:8080/"
        },
        "id": "XR8Bs0tEKXKc",
        "outputId": "0566be95-833e-4492-dbde-49c9cc30997b"
      },
      "outputs": [
        {
          "output_type": "stream",
          "name": "stdout",
          "text": [
            "```tool_output\n",
            "1446000.0\n",
            "```\n"
          ]
        }
      ],
      "source": [
        "call_response = extract_tool_call(response.text)\n",
        "print(call_response)"
      ]
    },
    {
      "cell_type": "markdown",
      "metadata": {
        "id": "qTWeTnpoKXKc"
      },
      "source": [
        "After we have the response from our tool call we send a final message to generate a user friendly output."
      ]
    },
    {
      "cell_type": "code",
      "execution_count": 23,
      "metadata": {
        "colab": {
          "base_uri": "https://localhost:8080/"
        },
        "id": "kCyqGF8IKXKc",
        "outputId": "2d1adf33-cd78-4637-c036-b2c2aed6cc78"
      },
      "outputs": [
        {
          "output_type": "stream",
          "name": "stdout",
          "text": [
            "$200,000 USD is equivalent to 1,446,000.0 RMB. Is there anything else I can help you with?\n",
            "\n"
          ]
        }
      ],
      "source": [
        "response = chat.send_message(call_response)\n",
        "print(response.text)"
      ]
    },
    {
      "cell_type": "code",
      "execution_count": null,
      "metadata": {
        "id": "SOAJDtXHKXKd"
      },
      "outputs": [],
      "source": []
    }
  ],
  "metadata": {
    "kernelspec": {
      "display_name": ".venv",
      "language": "python",
      "name": "python3"
    },
    "language_info": {
      "codemirror_mode": {
        "name": "ipython",
        "version": 3
      },
      "file_extension": ".py",
      "mimetype": "text/x-python",
      "name": "python",
      "nbconvert_exporter": "python",
      "pygments_lexer": "ipython3",
      "version": "3.11.11"
    },
    "colab": {
      "provenance": []
    }
  },
  "nbformat": 4,
  "nbformat_minor": 0
}