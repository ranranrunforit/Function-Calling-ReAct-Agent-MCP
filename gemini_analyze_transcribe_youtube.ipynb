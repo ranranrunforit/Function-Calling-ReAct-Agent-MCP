{
  "cells": [
    {
      "cell_type": "markdown",
      "metadata": {
        "id": "mBwrm5J3j7hJ"
      },
      "source": [
        "# Google Gemini 2.5 Pro for Podcast and YouTube Understanding & Transcription\n",
        "\n",
        "**Gemini 2.5 Pro** significantly enhances video and audio understanding through its advanced reasoning and exceptionally large context window (up to 1 million tokens). This massive capacity allows it to process substantial inputs, enabling tasks like **analyzing a 30-minute video (which consumes roughly 500k tokens including audio and sampled frames)** or transcribing hours of audio content in a single pass.\n",
        "\n",
        "**Audio & Podcast Transcription:**\n",
        "\n",
        "*   Generates precise transcripts with second-level [MM:SS] timestamps, automatic speaker identification (diarization), and detection/labeling of audio events like background music (even identifying specific songs), sound effects (e.g., bells), and named jingles.\n",
        "*   **15 minute audio equalls to roughly 8k output token. Leading to a total single request transcription of ~2h. As Gemini 2.5 Pro has now a 64k context output**\n",
        "*   Its 1 million token context window capably handles extensive recordings, processing hours of audio content seamlessly.\n",
        "\n",
        "**YouTube Video Understanding & Interaction:**\n",
        "\n",
        "*   Public YouTube URLs directly via the API and AI Studio, analyzing both the audio track and visual frames (sampled at ~1 frame per second).\n",
        "*   Ask Gemini 2.5 Pro to summarize, answer specific questions, translate spoken content, transcribe audio, or provide visual descriptions. Interact with specific moments using `MM:SS` timestamps in prompts (e.g., `\"What examples are given at 01:05?\"`) and request combined outputs like transcriptions alongside visual descriptions in one go.\n",
        "*   Supports public videos only (no private or unlisted), daily processing limit: 8 hours of YouTube video content, one video URL per API request.\n",
        "\n",
        "**Learn More & Get Started:**\n",
        "\n",
        "Explore the documentation to implement these features with **Gemini 2.5 Pro**:\n",
        "\n",
        "*   **Working with Audio Files:** [https://ai.google.dev/gemini-api/docs/audio?lang=python](https://ai.google.dev/gemini-api/docs/audio?lang=python)\n",
        "*   **Working with Video (including YouTube URLs):** [https://ai.google.dev/gemini-api/docs/vision?lang=python#youtube](https://ai.google.dev/gemini-api/docs/vision?lang=python#youtube)\n"
      ]
    },
    {
      "cell_type": "code",
      "execution_count": 3,
      "metadata": {
        "colab": {
          "base_uri": "https://localhost:8080/"
        },
        "id": "zM4NSk3vj7hM",
        "outputId": "e956eba6-6eda-4fa1-b1b3-6824ef49c448"
      },
      "outputs": [
        {
          "name": "stdout",
          "output_type": "stream",
          "text": [
            "Requirement already satisfied: google-genai in /usr/local/lib/python3.11/dist-packages (1.8.0)\n",
            "Requirement already satisfied: jinja2 in /usr/local/lib/python3.11/dist-packages (3.1.6)\n",
            "Requirement already satisfied: anyio<5.0.0,>=4.8.0 in /usr/local/lib/python3.11/dist-packages (from google-genai) (4.9.0)\n",
            "Requirement already satisfied: google-auth<3.0.0,>=2.14.1 in /usr/local/lib/python3.11/dist-packages (from google-genai) (2.38.0)\n",
            "Requirement already satisfied: httpx<1.0.0,>=0.28.1 in /usr/local/lib/python3.11/dist-packages (from google-genai) (0.28.1)\n",
            "Requirement already satisfied: pydantic<3.0.0,>=2.0.0 in /usr/local/lib/python3.11/dist-packages (from google-genai) (2.11.0)\n",
            "Requirement already satisfied: requests<3.0.0,>=2.28.1 in /usr/local/lib/python3.11/dist-packages (from google-genai) (2.32.3)\n",
            "Requirement already satisfied: websockets<15.1.0,>=13.0.0 in /usr/local/lib/python3.11/dist-packages (from google-genai) (15.0.1)\n",
            "Requirement already satisfied: typing-extensions<5.0.0,>=4.11.0 in /usr/local/lib/python3.11/dist-packages (from google-genai) (4.13.0)\n",
            "Requirement already satisfied: MarkupSafe>=2.0 in /usr/local/lib/python3.11/dist-packages (from jinja2) (3.0.2)\n",
            "Requirement already satisfied: idna>=2.8 in /usr/local/lib/python3.11/dist-packages (from anyio<5.0.0,>=4.8.0->google-genai) (3.10)\n",
            "Requirement already satisfied: sniffio>=1.1 in /usr/local/lib/python3.11/dist-packages (from anyio<5.0.0,>=4.8.0->google-genai) (1.3.1)\n",
            "Requirement already satisfied: cachetools<6.0,>=2.0.0 in /usr/local/lib/python3.11/dist-packages (from google-auth<3.0.0,>=2.14.1->google-genai) (5.5.2)\n",
            "Requirement already satisfied: pyasn1-modules>=0.2.1 in /usr/local/lib/python3.11/dist-packages (from google-auth<3.0.0,>=2.14.1->google-genai) (0.4.2)\n",
            "Requirement already satisfied: rsa<5,>=3.1.4 in /usr/local/lib/python3.11/dist-packages (from google-auth<3.0.0,>=2.14.1->google-genai) (4.9)\n",
            "Requirement already satisfied: certifi in /usr/local/lib/python3.11/dist-packages (from httpx<1.0.0,>=0.28.1->google-genai) (2025.1.31)\n",
            "Requirement already satisfied: httpcore==1.* in /usr/local/lib/python3.11/dist-packages (from httpx<1.0.0,>=0.28.1->google-genai) (1.0.7)\n",
            "Requirement already satisfied: h11<0.15,>=0.13 in /usr/local/lib/python3.11/dist-packages (from httpcore==1.*->httpx<1.0.0,>=0.28.1->google-genai) (0.14.0)\n",
            "Requirement already satisfied: annotated-types>=0.6.0 in /usr/local/lib/python3.11/dist-packages (from pydantic<3.0.0,>=2.0.0->google-genai) (0.7.0)\n",
            "Requirement already satisfied: pydantic-core==2.33.0 in /usr/local/lib/python3.11/dist-packages (from pydantic<3.0.0,>=2.0.0->google-genai) (2.33.0)\n",
            "Requirement already satisfied: typing-inspection>=0.4.0 in /usr/local/lib/python3.11/dist-packages (from pydantic<3.0.0,>=2.0.0->google-genai) (0.4.0)\n",
            "Requirement already satisfied: charset-normalizer<4,>=2 in /usr/local/lib/python3.11/dist-packages (from requests<3.0.0,>=2.28.1->google-genai) (3.4.1)\n",
            "Requirement already satisfied: urllib3<3,>=1.21.1 in /usr/local/lib/python3.11/dist-packages (from requests<3.0.0,>=2.28.1->google-genai) (2.3.0)\n",
            "Requirement already satisfied: pyasn1<0.7.0,>=0.6.1 in /usr/local/lib/python3.11/dist-packages (from pyasn1-modules>=0.2.1->google-auth<3.0.0,>=2.14.1->google-genai) (0.6.1)\n"
          ]
        }
      ],
      "source": [
        "%pip install google-genai jinja2"
      ]
    },
    {
      "cell_type": "code",
      "execution_count": null,
      "metadata": {
        "id": "Xd9PtJhOj7hN"
      },
      "outputs": [],
      "source": [
        "import os\n",
        "from google import genai\n",
        "from google.genai import types\n",
        "# create client\n",
        "api_key = os.getenv(\"GEMINI_API_KEY\", \"xxx\") # \n",
        "client = genai.Client(api_key=api_key)"
      ]
    },
    {
      "cell_type": "markdown",
      "metadata": {
        "id": "kJNL8QxDj7hO"
      },
      "source": [
        "## Podcast Example\n"
      ]
    },
    {
      "cell_type": "code",
      "execution_count": 5,
      "metadata": {
        "colab": {
          "base_uri": "https://localhost:8080/"
        },
        "id": "GS6vIcHcj7hO",
        "outputId": "bf783c06-0349-44b4-c3f5-b4de21027645"
      },
      "outputs": [
        {
          "name": "stdout",
          "output_type": "stream",
          "text": [
            "[00:00] John: If the Porsche Macan has proven anything,\n",
            "[00:02] John: it's that the days of sacrificing performance for practicality\n",
            "[00:05] John: are gone.\n",
            "[00:06] John: Long gone.\n",
            "[00:08] John: Engineered to deliver a driving experience like no other,\n",
            "[00:11] John: the Macan has demonstrated excellence in style and performance\n",
            "[00:14] John: to become the leading sports car in its class.\n",
            "[00:17] John: So don't let those five doors fool you.\n",
            "[00:19] John: Once you're in the driver's seat,\n",
            "[00:20] John: one thing will become immediately clear.\n",
            "[00:23] [Car engine sound]\n",
            "[00:23] John: This\n",
            "[00:24] John: is a Porsche.\n",
            "[00:25] John: The Macan.\n",
            "[00:26] John: Now leasing from 3.99%.\n",
            "[00:28] John: Conditions apply.\n",
            "[00:30] [MUSIC]\n",
            "[00:31] [END]\n"
          ]
        }
      ],
      "source": [
        "from jinja2 import Template\n",
        "\n",
        "\n",
        "# path to the file to upload\n",
        "file_path = \"./porsche.mp3\" # Repalce with your own file path\n",
        "\n",
        "# Upload the file to the File API\n",
        "file = client.files.upload(file=file_path)\n",
        "\n",
        "# Generate a structured response using the Gemini API\n",
        "prompt_template = Template(\"\"\"Generate a transcript of the episode. Include timestamps and identify speakers.\n",
        "\n",
        "Speakers are:\n",
        "{% for speaker in speakers %}- {{ speaker }}{% if not loop.last %}\\n{% endif %}{% endfor %}\n",
        "\n",
        "eg:\n",
        "[00:00] Brady: Hello there.\n",
        "[00:02] Tim: Hi Brady.\n",
        "\n",
        "It is important to include the correct speaker names. Use the names you identified earlier. If you really don't know the speaker's name, identify them with a letter of the alphabet, eg there may be an unknown speaker 'A' and another unknown speaker 'B'.\n",
        "\n",
        "If there is music or a short jingle playing, signify like so:\n",
        "[01:02] [MUSIC] or [01:02] [JINGLE]\n",
        "\n",
        "If you can identify the name of the music or jingle playing then use that instead, eg:\n",
        "[01:02] [Firework by Katy Perry] or [01:02] [The Sofa Shop jingle]\n",
        "\n",
        "If there is some other sound playing try to identify the sound, eg:\n",
        "[01:02] [Bell ringing]\n",
        "\n",
        "Each individual caption should be quite short, a few short sentences at most.\n",
        "\n",
        "Signify the end of the episode with [END].\n",
        "\n",
        "Don't use any markdown formatting, like bolding or italics.\n",
        "\n",
        "Only use characters from the English alphabet, unless you genuinely believe foreign characters are correct.\n",
        "\n",
        "It is important that you use the correct words and spell everything correctly. Use the context of the podcast to help.\n",
        "If the hosts discuss something like a movie, book or celebrity, make sure the movie, book, or celebrity name is spelled correctly.\"\"\")\n",
        "\n",
        "# Define the speakers and render the prompt\n",
        "speakers = [\"John\"]\n",
        "prompt = prompt_template.render(speakers=speakers)\n",
        "\n",
        "response = client.models.generate_content(\n",
        "    model=\"gemini-2.5-pro-exp-03-25\",\n",
        "    contents=[prompt, file],\n",
        ")\n",
        "\n",
        "print(response.text)"
      ]
    },
    {
      "cell_type": "markdown",
      "metadata": {
        "id": "8NT14VCkj7hP"
      },
      "source": [
        "## Youtube Example\n"
      ]
    },
    {
      "cell_type": "code",
      "execution_count": null,
      "metadata": {
        "colab": {
          "base_uri": "https://localhost:8080/"
        },
        "id": "1gtuut2Oj7hP",
        "outputId": "3720e393-d2fa-41aa-ae66-c5b82022c568"
      },
      "outputs": [
        {
          "name": "stdout",
          "output_type": "stream",
          "text": [
            "Okay, here is the analysis of the YouTube video content based on the provided information:\n",
            "\n",
            "1.  **Main Thesis/Claim:** The creator claims that Google's Gemini 2.5 Pro is the best AI model specifically for coding tasks that he has ever used, particularly excelling in code generation and refactoring compared to other models he's tried.\n",
            "\n",
            "2.  **Key Topics:**\n",
            "    *   **AI Model Focus:** Google Gemini 2.5 Pro (Experimental 03-25 version via Google AI Studio).\n",
            "    *   **Coding Capabilities Tested:**\n",
            "        *   **Game Development:** Creating \"Ultimate Tic-Tac-Toe\" (Java, Swing - successful one-shot) and a \"Kitten Cannon\" style game (p5.js - required debugging).\n",
            "        *   **Web UI Generation:** Building a landing page from a mockup image (Vite, React, Tailwind CSS - performed poorly) and cloning the X (Twitter) layout (HTML, CSS with Google Search grounding - basic success).\n",
            "        *   **Code Refactoring:** Improving Rust code by replacing `for` loops with iterators (performed very well, superior to Claude 3.5 Sonnet's attempt).\n",
            "    *   **Benchmarking:** Comparison of Gemini 2.5 Pro against competitors (OpenAI o3-mini, GPT-4.5, Claude 3.7 Sonnet, Grok 3 Beta, DeepSeek R1) across various benchmarks (Reasoning, Science, Math, Code Generation/Editing, Agentic Coding).\n",
            "    *   **Training Data & Knowledge:** Testing the model's knowledge freshness regarding the current React.js version, demonstrating the use and effectiveness of \"Grounding with Google Search\".\n",
            "    *   **Programming Languages/Tools Mentioned:** Java, Swing, p5.js, Rust, Vite, React, Tailwind CSS, HTML, CSS, Google AI Studio, p5.js Web Editor, Windsurf (creator's editor).\n",
            "\n",
            "3.  **Call to Action:**\n",
            "    *   The creator explicitly asks viewers if they have used Gemini 2.5 Pro for coding or other tasks and requests they leave their thoughts in the comments (10:11, 11:06).\n",
            "    *   Standard YouTube calls to subscribe, like, and enable the notification bell (11:16).\n",
            "\n",
            "4.  **Summary:** The video creator reviews Google's Gemini 2.5 Pro, asserting it's the most impressive coding AI he's used to date. He showcases its strengths by having it successfully generate a complex Java Swing game (Ultimate Tic-Tac-Toe) in one attempt and significantly refactor Rust code more effectively than other models. While Gemini 2.5 Pro required debugging for a p5.js game and performed poorly when creating a complex React/Tailwind landing page from an image, its benchmarks and performance in logical code generation and refactoring lead the creator to rate it highly, considering it potentially his new primary AI coding assistant. He also explores its knowledge cutoff and the utility of Google Search grounding.\n"
          ]
        }
      ],
      "source": [
        "from google.genai import types\n",
        "\n",
        "youtube_url = \"https://www.youtube.com/watch?v=RDOMKIw1aF4\" # Repalce with the youtube url you want to analyze # ~11 mins video\n",
        "\n",
        "prompt = \"\"\"Analyze the following YouTube video content. Provide a concise summary covering:\n",
        "\n",
        "1.  **Main Thesis/Claim:** What is the central point the creator is making?\n",
        "2.  **Key Topics:** List the main subjects discussed, referencing specific examples or technologies mentioned (e.g., AI models, programming languages, projects).\n",
        "3.  **Call to Action:** Identify any explicit requests made to the viewer.\n",
        "4.  **Summary:** Provide a concise summary of the video content.\n",
        "\n",
        "Use the provided title, chapter timestamps/descriptions, and description text for your analysis.\"\"\"\n",
        "\n",
        "# Analyze the video\n",
        "response = client.models.generate_content(\n",
        "    model=\"gemini-2.5-pro-exp-03-25\",\n",
        "    contents=types.Content(\n",
        "        parts=[\n",
        "            types.Part(text=prompt),\n",
        "            types.Part(\n",
        "                file_data=types.FileData(file_uri=youtube_url)\n",
        "            )\n",
        "        ]\n",
        "    )\n",
        ")\n",
        "\n",
        "print(response.text)"
      ]
    }
  ],
  "metadata": {
    "colab": {
      "provenance": []
    },
    "kernelspec": {
      "display_name": ".venv",
      "language": "python",
      "name": "python3"
    },
    "language_info": {
      "codemirror_mode": {
        "name": "ipython",
        "version": 3
      },
      "file_extension": ".py",
      "mimetype": "text/x-python",
      "name": "python",
      "nbconvert_exporter": "python",
      "pygments_lexer": "ipython3",
      "version": "3.11.11"
    }
  },
  "nbformat": 4,
  "nbformat_minor": 0
}
