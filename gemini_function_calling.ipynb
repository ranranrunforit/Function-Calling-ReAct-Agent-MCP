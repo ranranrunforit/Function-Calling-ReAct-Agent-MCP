{
  "cells": [
    {
      "cell_type": "markdown",
      "metadata": {
        "id": "hr3c2pdkKblK"
      },
      "source": [
        "# Function Calling with Google DeepMind Gemini 2.0 Flash\n",
        "\n",
        "Function calling is the capability to connect LLMs to external tools and to interact with your code and APIs in a structured way. Instead of generating text responses, LLMs understand when to call specific functions and provide the necessary parameters to execute real-world actions.\n",
        "\n",
        "Throughout this guide, we'll look at a practical weather-based assistant access to a weather API. Yes, not very creative, but there is a free API we can use and it should be enough to demonstrate the concept understand how you can use function calling to build a more complex assistant.  \n",
        "\n",
        "This guide covers:\n",
        "\n",
        "1. [How does function calling work?](#how-does-function-calling-work)\n",
        "2. [When to use function calling?](#when-to-use-function-calling)\n",
        "3. [Function Calling with Google Gemini 2.0 Flash](#function-calling-with-google-gemini-20-flash)\n",
        "4. [Advanced: Function Calling with LangChain](#advanced-function-calling-with-langchain)\n",
        "5. [Advanced: Function Calling with OpenAI Compatible API](#advanced-function-calling-with-openai-compatible-api)\n",
        "\n",
        "## How does function calling work?\n",
        "\n",
        "Function calling may imply that the LLM is directly performing some action. This is not the case! When a user prompts an LLM with function calling, the model analyzes the input and determines if and which function would be the most appropriate for the task (can be a single function or multiple functions). Instead of providing a text response, the model generates a structured JSON object that specifies which function to call and the necessary parameters.\n",
        "\n",
        "![Function Intro](../assets/function-intro.png)\n",
        "\n",
        "In practice function calling not only describe the process of generating structured output, but also the process of calling a function and how to handle the output. As you don't want to return the raw output of the function to your user, you want the LLM to generate an appropriate response, based on the conversation history.\n",
        "\n",
        "![Function calling](../assets/function-calling.png)\n",
        "\n",
        "\n",
        "Practical Function Calling follows these steps:\n",
        "1. Your application sends a prompt to the LLM along with function definitions\n",
        "2. The LLM analyzes the prompt and decides whether to respond directly or use defined functions\n",
        "3. If using functions, the LLM generates structured arguments for the function call\n",
        "4. Your application receives the function call details and executes the actual function\n",
        "5. The function results are sent back to the LLM\n",
        "6. The LLM provides a final response incorporating the function results\n",
        "\n",
        "This cycle can continue as needed, allowing for complex multi-step interactions between the application and the LLM. It is also possible that the LLM decides that it needs to call multiple functions after each other or in parallel before returning a final response to the user.\n",
        "\n",
        "\n",
        "## When to Use Function Calling?\n",
        "\n",
        "Function calling has emerged as one of the popular methods for building AI agents. It can help build human-AI interfaces that access and query real-time information from external sources like APIs, databases, and knowledge bases while providing a natural language interface (text or audio) to users.\n",
        "\n",
        "Function calling enables automation tasks like scheduling appointments, creating invoices, or sending reminders. An example usecase could be a customer service assistant might use function calling to seamlessly handle tasks like checking order status, processing returns, and updating customer information – all while maintaining a natural conversation flow with the user.\n",
        "\n",
        "You now longer need to build Applications which required complex forms or multiple steps to collect information from the user. Instead, you can build a natural language interface that allows the user to interact with the application in a conversational way. Or have no user interface at all and let the LLM interact with the world on your behalf.\n",
        "\n",
        "## Function Calling with Google Gemini 2.0 Flash\n",
        "\n",
        "Google Gemini 2.0 Flash supports function calling through multiple interfaces, [OpenAPI compatible JSON Schema](https://spec.openapis.org/oas/v3.0.3#schema) and Python functions defintions with docstrings. If you are using JavaScript/Typescript you currently have to use the JSON Schema interface. The Python SDK `google-genai` can automatically generate the JSON Schema from the Python function definitions and docstrings. We are going to take a look at both interfaces.\n",
        "\n",
        "_Note: Gemini 2.0 Flash currently doesn't support `anyOf` type in the JSON Schema._\n",
        "\n",
        "Lets start with the JSON Schema interface, but before that lets install the `google-genai` library and make sure we have a Gemini API key. If you don't have one yet you can get one from [Google AI Studio](https://aistudio.google.com/app/apikey)."
      ]
    },
    {
      "cell_type": "code",
      "execution_count": 1,
      "metadata": {
        "colab": {
          "base_uri": "https://localhost:8080/"
        },
        "id": "QCFWz7lmKblM",
        "outputId": "69c2ddc3-cb47-43fb-e64b-cc28e8f330f9"
      },
      "outputs": [
        {
          "output_type": "stream",
          "name": "stdout",
          "text": [
            "Requirement already satisfied: google-genai>=1.0.0 in /usr/local/lib/python3.11/dist-packages (1.4.0)\n",
            "Requirement already satisfied: geopy in /usr/local/lib/python3.11/dist-packages (2.4.1)\n",
            "Requirement already satisfied: requests in /usr/local/lib/python3.11/dist-packages (2.32.3)\n",
            "Requirement already satisfied: google-auth<3.0.0dev,>=2.14.1 in /usr/local/lib/python3.11/dist-packages (from google-genai>=1.0.0) (2.38.0)\n",
            "Requirement already satisfied: httpx<1.0.0dev,>=0.28.1 in /usr/local/lib/python3.11/dist-packages (from google-genai>=1.0.0) (0.28.1)\n",
            "Requirement already satisfied: pydantic<3.0.0dev,>=2.0.0 in /usr/local/lib/python3.11/dist-packages (from google-genai>=1.0.0) (2.10.6)\n",
            "Requirement already satisfied: websockets<15.0dev,>=13.0 in /usr/local/lib/python3.11/dist-packages (from google-genai>=1.0.0) (14.2)\n",
            "Requirement already satisfied: typing-extensions<5.0.0dev,>=4.11.0 in /usr/local/lib/python3.11/dist-packages (from google-genai>=1.0.0) (4.12.2)\n",
            "Requirement already satisfied: geographiclib<3,>=1.52 in /usr/local/lib/python3.11/dist-packages (from geopy) (2.0)\n",
            "Requirement already satisfied: charset-normalizer<4,>=2 in /usr/local/lib/python3.11/dist-packages (from requests) (3.4.1)\n",
            "Requirement already satisfied: idna<4,>=2.5 in /usr/local/lib/python3.11/dist-packages (from requests) (3.10)\n",
            "Requirement already satisfied: urllib3<3,>=1.21.1 in /usr/local/lib/python3.11/dist-packages (from requests) (2.3.0)\n",
            "Requirement already satisfied: certifi>=2017.4.17 in /usr/local/lib/python3.11/dist-packages (from requests) (2025.1.31)\n",
            "Requirement already satisfied: cachetools<6.0,>=2.0.0 in /usr/local/lib/python3.11/dist-packages (from google-auth<3.0.0dev,>=2.14.1->google-genai>=1.0.0) (5.5.2)\n",
            "Requirement already satisfied: pyasn1-modules>=0.2.1 in /usr/local/lib/python3.11/dist-packages (from google-auth<3.0.0dev,>=2.14.1->google-genai>=1.0.0) (0.4.1)\n",
            "Requirement already satisfied: rsa<5,>=3.1.4 in /usr/local/lib/python3.11/dist-packages (from google-auth<3.0.0dev,>=2.14.1->google-genai>=1.0.0) (4.9)\n",
            "Requirement already satisfied: anyio in /usr/local/lib/python3.11/dist-packages (from httpx<1.0.0dev,>=0.28.1->google-genai>=1.0.0) (3.7.1)\n",
            "Requirement already satisfied: httpcore==1.* in /usr/local/lib/python3.11/dist-packages (from httpx<1.0.0dev,>=0.28.1->google-genai>=1.0.0) (1.0.7)\n",
            "Requirement already satisfied: h11<0.15,>=0.13 in /usr/local/lib/python3.11/dist-packages (from httpcore==1.*->httpx<1.0.0dev,>=0.28.1->google-genai>=1.0.0) (0.14.0)\n",
            "Requirement already satisfied: annotated-types>=0.6.0 in /usr/local/lib/python3.11/dist-packages (from pydantic<3.0.0dev,>=2.0.0->google-genai>=1.0.0) (0.7.0)\n",
            "Requirement already satisfied: pydantic-core==2.27.2 in /usr/local/lib/python3.11/dist-packages (from pydantic<3.0.0dev,>=2.0.0->google-genai>=1.0.0) (2.27.2)\n",
            "Requirement already satisfied: pyasn1<0.7.0,>=0.4.6 in /usr/local/lib/python3.11/dist-packages (from pyasn1-modules>=0.2.1->google-auth<3.0.0dev,>=2.14.1->google-genai>=1.0.0) (0.6.1)\n",
            "Requirement already satisfied: sniffio>=1.1 in /usr/local/lib/python3.11/dist-packages (from anyio->httpx<1.0.0dev,>=0.28.1->google-genai>=1.0.0) (1.3.1)\n"
          ]
        }
      ],
      "source": [
        "!pip install \"google-genai>=1.0.0\" geopy requests"
      ]
    },
    {
      "cell_type": "markdown",
      "metadata": {
        "id": "9gprDMmWKblN"
      },
      "source": [
        "Once you have the SDK and API key, you can create a client and define the model you are going to use the new Gemini 2.0 Flash model, which is available via free tier with 1,500 request per day (at 2025-02-06)."
      ]
    },
    {
      "cell_type": "code",
      "execution_count": 2,
      "metadata": {
        "id": "4TvApmpyKblN"
      },
      "outputs": [],
      "source": [
        "import os\n",
        "from google import genai\n",
        "\n",
        "# create client\n",
        "api_key = os.getenv(\"GEMINI_API_KEY\", \"PLACE_YOUR_API_KEY_HERE\") #\n",
        "client = genai.Client(api_key=api_key)\n",
        "\n",
        "# Define the model you are going to use\n",
        "model_id =  \"gemini-2.0-flash\""
      ]
    },
    {
      "cell_type": "markdown",
      "metadata": {
        "id": "5yAfnIekKblN"
      },
      "source": [
        "Before we begin, lets quickly test if we have access to the model and can generate some text.   "
      ]
    },
    {
      "cell_type": "code",
      "execution_count": 4,
      "metadata": {
        "colab": {
          "base_uri": "https://localhost:8080/"
        },
        "id": "0scKHHmxKblN",
        "outputId": "298aef9e-fb2a-45d8-e21a-b7b6468d5d19"
      },
      "outputs": [
        {
          "output_type": "stream",
          "name": "stdout",
          "text": [
            "Beijing is home to the Forbidden City, the largest palatial complex in the world.\n",
            "\n"
          ]
        }
      ],
      "source": [
        "res = client.models.generate_content(\n",
        "    model=model_id,\n",
        "    contents=[\"Tell me 1 good fact about Beijing.\"]\n",
        ")\n",
        "print(res.text)"
      ]
    },
    {
      "cell_type": "markdown",
      "metadata": {
        "id": "ffZEdtvMKblN"
      },
      "source": [
        "### Function Calling with JSON Schema\n",
        "\n",
        "For using Function Calling with JSON Schema we need to define our functions as JSON Schema. Let's create a simple weather function as an example. The main parts of the JSON Schema are:\n",
        "\n",
        "- `name`: name of the function, this need to match the name of your function in your code\n",
        "- `description`: description of what the function does. This is important as this information will be used by the LLM to identify when to use the function\n",
        "- `parameters`: JSON schema object of type definition for the input arguments of your function. Each parameter has a type, e.g. `string` and a `description` which are used by the LLM what to add here.\n",
        "- `required`: What `parameters` are required if not all required the LLM might not provide an argument when it thinks its not needed.\n"
      ]
    },
    {
      "cell_type": "code",
      "execution_count": 10,
      "metadata": {
        "id": "rRxzdV2oKblO"
      },
      "outputs": [],
      "source": [
        "weather_function = {\n",
        "    \"name\": \"get_weather_forecast\",\n",
        "    \"description\": \"Retrieves the weather using Open-Meteo API for a given location (city) and a date (yyyy-mm-dd). Returns a list dictionary with the time and temperature for each hour.\",\n",
        "    \"parameters\": {\n",
        "        \"type\": \"object\",\n",
        "        \"properties\": {\n",
        "            \"location\": {\n",
        "                \"type\": \"string\",\n",
        "                \"description\": \"The city and state, e.g., San Francisco, CA\"\n",
        "            },\n",
        "            \"date\": {\n",
        "                \"type\": \"string\",\n",
        "                \"description\": \"the forecasting date for when to get the weather format (yyyy-mm-dd)\"\n",
        "            }\n",
        "        },\n",
        "        \"required\": [\"location\",\"date\"]\n",
        "    }\n",
        "}"
      ]
    },
    {
      "cell_type": "markdown",
      "metadata": {
        "id": "CcG3klI9KblO"
      },
      "source": [
        "We can now use this function definition and add it to our LLM call. The LLM will then decide on its own if it should \"call\" the function or return a normal text response. Lets test this. Function declarations are defined in the `config` object. We use the Pydantic `GenerateContentConfig` data structure to define the config."
      ]
    },
    {
      "cell_type": "code",
      "execution_count": 11,
      "metadata": {
        "id": "KOvKrY68KblO"
      },
      "outputs": [],
      "source": [
        "from google.genai.types import GenerateContentConfig\n",
        "\n",
        "# Generation Config\n",
        "config = GenerateContentConfig(\n",
        "    system_instruction=\"You are a helpful assistant that use tools to access and retrieve information from a weather API. Today is 2025-03-19.\", # to give the LLM context on the current date.\n",
        "    tools=[{\"function_declarations\": [weather_function]}], # define the functions that the LLM can use\n",
        ")"
      ]
    },
    {
      "cell_type": "markdown",
      "metadata": {
        "id": "wADd8LMRKblO"
      },
      "source": [
        "First lets try without our tool using \"Whats the weather in Berlin this today?\" prompt."
      ]
    },
    {
      "cell_type": "code",
      "execution_count": 14,
      "metadata": {
        "colab": {
          "base_uri": "https://localhost:8080/"
        },
        "id": "m5nNOJkbKblO",
        "outputId": "742dafe1-ba68-4871-8f01-4c85abd27b21"
      },
      "outputs": [
        {
          "output_type": "stream",
          "name": "stdout",
          "text": [
            "I do not have access to real-time information, including live weather updates. To get the current weather in Beijing, I recommend checking a reliable weather app or website such as:\n",
            "\n",
            "*   **AccuWeather:** [https://www.accuweather.com/en/cn/beijing/10108/weather-forecast/10108](https://www.accuweather.com/en/cn/beijing/10108/weather-forecast/10108)\n",
            "*   **The Weather Channel:** [https://weather.com/weather/today/l/10108,54959e68-6901-4f37-88c0-0e60991a6952](https://weather.com/weather/today/l/10108,54959e68-6901-4f37-88c0-0e60991a6952)\n",
            "*   **Google Weather:** Just type \"weather in Beijing\" into the Google search bar.\n"
          ]
        }
      ],
      "source": [
        "response = client.models.generate_content(\n",
        "    model=model_id,\n",
        "    contents='Whats the weather in Beijing this today?'\n",
        ")\n",
        "print(response.text)"
      ]
    },
    {
      "cell_type": "markdown",
      "metadata": {
        "id": "Ncwbz-ftKblP"
      },
      "source": [
        "As expected the output is not helpful, as the LLM does not know how to answer the question. Now lets try with our function.\n",
        "\n",
        "_Note: When the LLM decides to use a tool the `.text` attribute might be null as the function call is returned in the `function_call` attribute of each candidate._"
      ]
    },
    {
      "cell_type": "code",
      "execution_count": 15,
      "metadata": {
        "colab": {
          "base_uri": "https://localhost:8080/"
        },
        "id": "hu2FKoYzKblP",
        "outputId": "be42d01f-0326-42a2-eb83-8c62c9031ce2"
      },
      "outputs": [
        {
          "output_type": "stream",
          "name": "stdout",
          "text": [
            "id=None args={'date': '2025-03-19', 'location': 'Beijing, China'} name='get_weather_forecast'\n"
          ]
        }
      ],
      "source": [
        "response = client.models.generate_content(\n",
        "    model=model_id,\n",
        "    config=config,\n",
        "    contents='Whats the weather in Beijing today?'\n",
        ")\n",
        "\n",
        "# iterate over eacht return part and check if it is a function call or a normal response\n",
        "for part in response.candidates[0].content.parts:\n",
        "    print(part.function_call)"
      ]
    },
    {
      "cell_type": "markdown",
      "metadata": {
        "id": "49ngxqPXKblP"
      },
      "source": [
        "Great, Gemini correctly identified that it needs to call our function and generated the structured response including the function name and arguments. Now, lets put this into a \"agentic\" method that will call the Gemini then check if the response is a function call and if so call the function with the arguments and finally generate a final response.\n",
        "\n",
        "_Note: The code below uses the available `types` data structured from the `google-genai` library to create the conversation history._"
      ]
    },
    {
      "cell_type": "code",
      "execution_count": 19,
      "metadata": {
        "colab": {
          "base_uri": "https://localhost:8080/",
          "height": 157
        },
        "id": "GRQHCbd3KblP",
        "outputId": "73621b80-5e89-4031-b084-e4ba93b54cf9"
      },
      "outputs": [
        {
          "output_type": "stream",
          "name": "stdout",
          "text": [
            "Tool call detected\n",
            "Calling tool: get_weather_forecast with args: {'location': 'Beijing, China', 'date': '2025-03-19'}\n",
            "Calling LLM with tool results\n"
          ]
        },
        {
          "output_type": "execute_result",
          "data": {
            "text/plain": [
              "\"OK. Today's weather in Beijing is: at 00:00, 3.9 degrees; at 01:00, 9.5 degrees; at 02:00, 14.1 degrees; at 03:00, 16.6 degrees; at 04:00, 18.2 degrees; at 05:00, 19.4 degrees; at 06:00, 20.4 degrees; at 07:00, 20.7 degrees; at 08:00, 20.7 degrees; at 09:00, 20.4 degrees; at 10:00, 18.9 degrees; at 11:00, 16.1 degrees; at 12:00, 13.1 degrees; at 13:00, 11.5 degrees; at 14:00, 10.5 degrees; at 15:00, 8.7 degrees; at 16:00, 7.8 degrees; at 17:00, 7.6 degrees; at 18:00, 7.2 degrees; at 19:00, 7 degrees; at 20:00, 6.9 degrees; at 21:00, 6.7 degrees; at 22:00, 6.4 degrees; at 23:00, 6.5 degrees.\""
            ],
            "application/vnd.google.colaboratory.intrinsic+json": {
              "type": "string"
            }
          },
          "metadata": {},
          "execution_count": 19
        }
      ],
      "source": [
        "from google.genai import types\n",
        "from geopy.geocoders import Nominatim\n",
        "import requests\n",
        "\n",
        "# Simple function to get the weather forecast for a given location and date\n",
        "geolocator = Nominatim(user_agent=\"weather-app\")\n",
        "def get_weather_forecast(location, date):\n",
        "    location = geolocator.geocode(location)\n",
        "    if location:\n",
        "        try:\n",
        "            response = requests.get(f\"https://api.open-meteo.com/v1/forecast?latitude={location.latitude}&longitude={location.longitude}&hourly=temperature_2m&start_date={date}&end_date={date}\")\n",
        "            data = response.json()\n",
        "            return {time: temp for time, temp in zip(data[\"hourly\"][\"time\"], data[\"hourly\"][\"temperature_2m\"])}\n",
        "        except Exception as e:\n",
        "            return {\"error\": str(e)}\n",
        "    else:\n",
        "        return {\"error\": \"Location not found\"}\n",
        "\n",
        "# Function dictionary to map the function name to the function\n",
        "functions = {\n",
        "    \"get_weather_forecast\": get_weather_forecast\n",
        "}\n",
        "\n",
        "# helper function to call the function\n",
        "def call_function(function_name, **kwargs):\n",
        "    return functions[function_name](**kwargs)\n",
        "\n",
        "# agentic loop to handle the function call\n",
        "def function_call_loop(prompt):\n",
        "    # create the conversation\n",
        "    contents = [types.Content(role=\"user\", parts=[types.Part(text=prompt)])]\n",
        "    # initial request\n",
        "    response = client.models.generate_content(\n",
        "        model=model_id,\n",
        "        config=config,\n",
        "        contents=contents\n",
        "    )\n",
        "    for part in response.candidates[0].content.parts:\n",
        "        # add response to the conversation\n",
        "        contents.append(types.Content(role=\"model\", parts=[part]))\n",
        "        # check if the response is a function call\n",
        "        if part.function_call:\n",
        "            print(\"Tool call detected\")\n",
        "            function_call = part.function_call\n",
        "            # Call the tool with arguments\n",
        "            print(f\"Calling tool: {function_call.name} with args: {function_call.args}\")\n",
        "            tool_result = call_function(function_call.name, **function_call.args)\n",
        "            # Build the response parts using the function result.\n",
        "            function_response_part = types.Part.from_function_response(\n",
        "                name=function_call.name,\n",
        "                response={\"result\": tool_result},\n",
        "            )\n",
        "            contents.append(types.Content(role=\"user\", parts=[function_response_part]))\n",
        "            # Send follow-up with tool results, but remove the tools from the config\n",
        "            print(f\"Calling LLM with tool results\")\n",
        "            func_gen_response = client.models.generate_content(\n",
        "                model=model_id, config=config, contents=contents\n",
        "            )\n",
        "            # Add the reponse to the conversation\n",
        "            contents.append(types.Content(role=\"model\", parts=[func_gen_response]))\n",
        "    # return the final response\n",
        "    return contents[-1].parts[0].text.strip()\n",
        "\n",
        "\n",
        "function_call_loop(\"Whats the weather in Beijing today?\")"
      ]
    },
    {
      "cell_type": "markdown",
      "metadata": {
        "id": "3WN6xjdhKblP"
      },
      "source": [
        "Awesome! We successfully called our function and generated a final response using the function result."
      ]
    },
    {
      "cell_type": "markdown",
      "metadata": {
        "id": "3sQMu3-PKblP"
      },
      "source": [
        "### Function Calling using Python functions\n",
        "\n",
        "The Python SDK `google-genai` can automatically generate the JSON Schema from the Python function definitions and docstrings."
      ]
    },
    {
      "cell_type": "code",
      "execution_count": 20,
      "metadata": {
        "id": "IEsYZoBQKblQ"
      },
      "outputs": [],
      "source": [
        "from geopy.geocoders import Nominatim\n",
        "import requests\n",
        "\n",
        "geolocator = Nominatim(user_agent=\"weather-app\")\n",
        "\n",
        "def get_weather_forecast(location: str, date: str) -> str:\n",
        "    \"\"\"\n",
        "    Retrieves the weather using Open-Meteo API for a given location (city) and a date (yyyy-mm-dd). Returns a list dictionary with the time and temperature for each hour.\"\n",
        "\n",
        "    Args:\n",
        "        location (str): The city and state, e.g., San Francisco, CA\n",
        "        date (str): The forecasting date for when to get the weather format (yyyy-mm-dd)\n",
        "    Returns:\n",
        "        Dict[str, float]: A dictionary with the time as key and the temperature as value\n",
        "    \"\"\"\n",
        "    location = geolocator.geocode(location)\n",
        "    if location:\n",
        "        try:\n",
        "            response = requests.get(f\"https://api.open-meteo.com/v1/forecast?latitude={location.latitude}&longitude={location.longitude}&hourly=temperature_2m&start_date={date}&end_date={date}\")\n",
        "            data = response.json()\n",
        "            return {time: temp for time, temp in zip(data[\"hourly\"][\"time\"], data[\"hourly\"][\"temperature_2m\"])}\n",
        "        except Exception as e:\n",
        "            return {\"error\": str(e)}\n",
        "    else:\n",
        "        return {\"error\": \"Location not found\"}"
      ]
    },
    {
      "cell_type": "markdown",
      "metadata": {
        "id": "lCn3ZC_2KblQ"
      },
      "source": [
        "Similar to the JSON Schema example we add our function to the generation config and we disable the automatic function calling for now, more on that later."
      ]
    },
    {
      "cell_type": "code",
      "execution_count": 21,
      "metadata": {
        "id": "yr6c6TK9KblQ"
      },
      "outputs": [],
      "source": [
        "from google.genai.types import GenerateContentConfig\n",
        "\n",
        "# Generation Config\n",
        "config = GenerateContentConfig(\n",
        "    system_instruction=\"You are a helpful assistant that can help with weather related questions. Today is 2025-03-19.\", # to give the LLM context on the current date.\n",
        "    tools=[get_weather_forecast], # define the functions that the LLM can use\n",
        "    automatic_function_calling={\"disable\": True} # Disable for now.\n",
        ")"
      ]
    },
    {
      "cell_type": "markdown",
      "metadata": {
        "id": "62w9tZXFKblQ"
      },
      "source": [
        "We can now generate a response."
      ]
    },
    {
      "cell_type": "code",
      "execution_count": 22,
      "metadata": {
        "colab": {
          "base_uri": "https://localhost:8080/"
        },
        "id": "m74tp6cfKblQ",
        "outputId": "a45d7f1e-6f88-4717-a6e0-e527fae1c6f1"
      },
      "outputs": [
        {
          "output_type": "stream",
          "name": "stdout",
          "text": [
            "id=None args={'location': 'Beijing', 'date': '2025-03-19'} name='get_weather_forecast'\n"
          ]
        }
      ],
      "source": [
        "r = client.models.generate_content(\n",
        "    model=model_id,\n",
        "    config=config,\n",
        "    contents='Whats the weather in Beijing today?'\n",
        ")\n",
        "# iterate over eacht return part and check if it is a function call or a normal response\n",
        "for part in r.candidates[0].content.parts:\n",
        "    print(part.function_call)"
      ]
    },
    {
      "cell_type": "markdown",
      "metadata": {
        "id": "XclDWJ_MKblQ"
      },
      "source": [
        "Great! Similar to our JSON Schema example Gemini correctly identified that it needs to call our function. The next step would be to implement the same logic to identify the function to call and handle the output, but the Python SDK supports this out of the box.\n",
        "\n",
        "If we enable the `automatic_function_calling` the SDK will automatically call the function, and sends another request to Gemini with the function result. We can remove the `automatic_function_calling` as the default behavior when Python functions are used as tools is to automatically call the function."
      ]
    },
    {
      "cell_type": "code",
      "execution_count": 24,
      "metadata": {
        "colab": {
          "base_uri": "https://localhost:8080/"
        },
        "id": "scPv7B9CKblQ",
        "outputId": "29aa6a6c-e8aa-46cf-a2eb-1ce111e78e8f"
      },
      "outputs": [
        {
          "output_type": "stream",
          "name": "stdout",
          "text": [
            "OK. The weather in Beijing today, 2025-03-19, will be between 3.9 degrees Celsius and 20.7 degrees Celsius.\n",
            "\n"
          ]
        }
      ],
      "source": [
        "from google.genai.types import GenerateContentConfig\n",
        "\n",
        "# Generation Config\n",
        "config = GenerateContentConfig(\n",
        "    system_instruction=\"You are a helpful assistant that use tools to access and retrieve information from a weather API. Today is 2025-03-19.\", # to give the LLM context on the current date.\n",
        "    tools=[get_weather_forecast], # define the functions that the LLM can use\n",
        "    # removed the automatic_function_calling as the default is to call the function\n",
        ")\n",
        "\n",
        "r = client.models.generate_content(\n",
        "    model=model_id,\n",
        "    config=config,\n",
        "    contents='Whats the weather in Beijing today?'\n",
        ")\n",
        "\n",
        "print(r.text)"
      ]
    },
    {
      "cell_type": "markdown",
      "metadata": {
        "id": "FRu2ce-EKblR"
      },
      "source": [
        "Great. Now, lets try an example which might be closer to a real usecase, where we provide more context to our Assistant about the user to have a more natural conversation."
      ]
    },
    {
      "cell_type": "code",
      "execution_count": 27,
      "metadata": {
        "colab": {
          "base_uri": "https://localhost:8080/"
        },
        "id": "NU-UuEgYKblR",
        "outputId": "89eed2ed-29dd-44a1-938b-66d4a51b96c8"
      },
      "outputs": [
        {
          "output_type": "stream",
          "name": "stdout",
          "text": [
            "The temperature in Beijing will be between 3.9 and 20.7 degrees Celsius today. You can probably wear a T-shirt in the afternoon.\n",
            "\n"
          ]
        }
      ],
      "source": [
        "from google.genai.types import GenerateContentConfig\n",
        "\n",
        "# Generation Config\n",
        "config = GenerateContentConfig(\n",
        "    system_instruction=\"You are a helpful assistant that use tools to access and retrieve information from a weather API.\",\n",
        "    tools=[get_weather_forecast], # define the functions that the LLM can use\n",
        "    # removed the automatic_function_calling as the default with callable functions is to call the function\n",
        ")\n",
        "\n",
        "# Prompt includes more context about the user and the current date\n",
        "prompt = f\"\"\"\n",
        "Today is 2025-03-19. You are chatting with Philipp, you have access to more information about him.\n",
        "\n",
        "User Context:\n",
        "- name: Philipp\n",
        "- location: Beijing\n",
        "\n",
        "User: Can i wear a T-shirt later today?\"\"\"\n",
        "\n",
        "r = client.models.generate_content(\n",
        "    model=model_id,\n",
        "    config=config,\n",
        "    contents=prompt\n",
        ")\n",
        "\n",
        "print(r.text)"
      ]
    },
    {
      "cell_type": "markdown",
      "metadata": {
        "vscode": {
          "languageId": "plaintext"
        },
        "id": "Wroir8E7KblR"
      },
      "source": [
        "## Advanced: Function Calling with LangChain\n",
        "\n",
        "[LangChain](https://python.langchain.com/docs/introduction/) is a composable framework that simplifies the development of LLM-powered application. LangChain supports Google Gemini 2.0 Flash and the function calling capabilities. [LangGraph](https://langchain-ai.github.io/langgraph/) is an orchestration framework for controllable agentic workflows, and many companies use LangChain and LangGraph together to build AI Agents."
      ]
    },
    {
      "cell_type": "code",
      "execution_count": 28,
      "metadata": {
        "colab": {
          "base_uri": "https://localhost:8080/",
          "height": 1000
        },
        "id": "GvP3uPSbKblR",
        "outputId": "9dbd9509-6977-47a2-9aac-19b75890223b"
      },
      "outputs": [
        {
          "output_type": "stream",
          "name": "stdout",
          "text": [
            "Requirement already satisfied: langchain in /usr/local/lib/python3.11/dist-packages (0.3.20)\n",
            "Collecting langchain-google-genai\n",
            "  Downloading langchain_google_genai-2.1.0-py3-none-any.whl.metadata (3.6 kB)\n",
            "Requirement already satisfied: langchain-core<1.0.0,>=0.3.41 in /usr/local/lib/python3.11/dist-packages (from langchain) (0.3.45)\n",
            "Requirement already satisfied: langchain-text-splitters<1.0.0,>=0.3.6 in /usr/local/lib/python3.11/dist-packages (from langchain) (0.3.6)\n",
            "Requirement already satisfied: langsmith<0.4,>=0.1.17 in /usr/local/lib/python3.11/dist-packages (from langchain) (0.3.13)\n",
            "Requirement already satisfied: pydantic<3.0.0,>=2.7.4 in /usr/local/lib/python3.11/dist-packages (from langchain) (2.10.6)\n",
            "Requirement already satisfied: SQLAlchemy<3,>=1.4 in /usr/local/lib/python3.11/dist-packages (from langchain) (2.0.39)\n",
            "Requirement already satisfied: requests<3,>=2 in /usr/local/lib/python3.11/dist-packages (from langchain) (2.32.3)\n",
            "Requirement already satisfied: PyYAML>=5.3 in /usr/local/lib/python3.11/dist-packages (from langchain) (6.0.2)\n",
            "Collecting filetype<2.0.0,>=1.2.0 (from langchain-google-genai)\n",
            "  Downloading filetype-1.2.0-py2.py3-none-any.whl.metadata (6.5 kB)\n",
            "Collecting google-ai-generativelanguage<0.7.0,>=0.6.16 (from langchain-google-genai)\n",
            "  Downloading google_ai_generativelanguage-0.6.17-py3-none-any.whl.metadata (9.8 kB)\n",
            "Requirement already satisfied: google-api-core!=2.0.*,!=2.1.*,!=2.10.*,!=2.2.*,!=2.3.*,!=2.4.*,!=2.5.*,!=2.6.*,!=2.7.*,!=2.8.*,!=2.9.*,<3.0.0,>=1.34.1 in /usr/local/lib/python3.11/dist-packages (from google-api-core[grpc]!=2.0.*,!=2.1.*,!=2.10.*,!=2.2.*,!=2.3.*,!=2.4.*,!=2.5.*,!=2.6.*,!=2.7.*,!=2.8.*,!=2.9.*,<3.0.0,>=1.34.1->google-ai-generativelanguage<0.7.0,>=0.6.16->langchain-google-genai) (2.24.2)\n",
            "Requirement already satisfied: google-auth!=2.24.0,!=2.25.0,<3.0.0,>=2.14.1 in /usr/local/lib/python3.11/dist-packages (from google-ai-generativelanguage<0.7.0,>=0.6.16->langchain-google-genai) (2.38.0)\n",
            "Requirement already satisfied: proto-plus<2.0.0,>=1.22.3 in /usr/local/lib/python3.11/dist-packages (from google-ai-generativelanguage<0.7.0,>=0.6.16->langchain-google-genai) (1.26.1)\n",
            "Requirement already satisfied: protobuf!=4.21.0,!=4.21.1,!=4.21.2,!=4.21.3,!=4.21.4,!=4.21.5,<7.0.0,>=3.20.2 in /usr/local/lib/python3.11/dist-packages (from google-ai-generativelanguage<0.7.0,>=0.6.16->langchain-google-genai) (4.25.6)\n",
            "Requirement already satisfied: tenacity!=8.4.0,<10.0.0,>=8.1.0 in /usr/local/lib/python3.11/dist-packages (from langchain-core<1.0.0,>=0.3.41->langchain) (9.0.0)\n",
            "Requirement already satisfied: jsonpatch<2.0,>=1.33 in /usr/local/lib/python3.11/dist-packages (from langchain-core<1.0.0,>=0.3.41->langchain) (1.33)\n",
            "Requirement already satisfied: packaging<25,>=23.2 in /usr/local/lib/python3.11/dist-packages (from langchain-core<1.0.0,>=0.3.41->langchain) (24.2)\n",
            "Requirement already satisfied: typing-extensions>=4.7 in /usr/local/lib/python3.11/dist-packages (from langchain-core<1.0.0,>=0.3.41->langchain) (4.12.2)\n",
            "Requirement already satisfied: httpx<1,>=0.23.0 in /usr/local/lib/python3.11/dist-packages (from langsmith<0.4,>=0.1.17->langchain) (0.28.1)\n",
            "Requirement already satisfied: orjson<4.0.0,>=3.9.14 in /usr/local/lib/python3.11/dist-packages (from langsmith<0.4,>=0.1.17->langchain) (3.10.15)\n",
            "Requirement already satisfied: requests-toolbelt<2.0.0,>=1.0.0 in /usr/local/lib/python3.11/dist-packages (from langsmith<0.4,>=0.1.17->langchain) (1.0.0)\n",
            "Requirement already satisfied: zstandard<0.24.0,>=0.23.0 in /usr/local/lib/python3.11/dist-packages (from langsmith<0.4,>=0.1.17->langchain) (0.23.0)\n",
            "Requirement already satisfied: annotated-types>=0.6.0 in /usr/local/lib/python3.11/dist-packages (from pydantic<3.0.0,>=2.7.4->langchain) (0.7.0)\n",
            "Requirement already satisfied: pydantic-core==2.27.2 in /usr/local/lib/python3.11/dist-packages (from pydantic<3.0.0,>=2.7.4->langchain) (2.27.2)\n",
            "Requirement already satisfied: charset-normalizer<4,>=2 in /usr/local/lib/python3.11/dist-packages (from requests<3,>=2->langchain) (3.4.1)\n",
            "Requirement already satisfied: idna<4,>=2.5 in /usr/local/lib/python3.11/dist-packages (from requests<3,>=2->langchain) (3.10)\n",
            "Requirement already satisfied: urllib3<3,>=1.21.1 in /usr/local/lib/python3.11/dist-packages (from requests<3,>=2->langchain) (2.3.0)\n",
            "Requirement already satisfied: certifi>=2017.4.17 in /usr/local/lib/python3.11/dist-packages (from requests<3,>=2->langchain) (2025.1.31)\n",
            "Requirement already satisfied: greenlet!=0.4.17 in /usr/local/lib/python3.11/dist-packages (from SQLAlchemy<3,>=1.4->langchain) (3.1.1)\n",
            "Requirement already satisfied: googleapis-common-protos<2.0.0,>=1.56.2 in /usr/local/lib/python3.11/dist-packages (from google-api-core!=2.0.*,!=2.1.*,!=2.10.*,!=2.2.*,!=2.3.*,!=2.4.*,!=2.5.*,!=2.6.*,!=2.7.*,!=2.8.*,!=2.9.*,<3.0.0,>=1.34.1->google-api-core[grpc]!=2.0.*,!=2.1.*,!=2.10.*,!=2.2.*,!=2.3.*,!=2.4.*,!=2.5.*,!=2.6.*,!=2.7.*,!=2.8.*,!=2.9.*,<3.0.0,>=1.34.1->google-ai-generativelanguage<0.7.0,>=0.6.16->langchain-google-genai) (1.69.1)\n",
            "Requirement already satisfied: grpcio<2.0dev,>=1.33.2 in /usr/local/lib/python3.11/dist-packages (from google-api-core[grpc]!=2.0.*,!=2.1.*,!=2.10.*,!=2.2.*,!=2.3.*,!=2.4.*,!=2.5.*,!=2.6.*,!=2.7.*,!=2.8.*,!=2.9.*,<3.0.0,>=1.34.1->google-ai-generativelanguage<0.7.0,>=0.6.16->langchain-google-genai) (1.71.0)\n",
            "Requirement already satisfied: grpcio-status<2.0.dev0,>=1.33.2 in /usr/local/lib/python3.11/dist-packages (from google-api-core[grpc]!=2.0.*,!=2.1.*,!=2.10.*,!=2.2.*,!=2.3.*,!=2.4.*,!=2.5.*,!=2.6.*,!=2.7.*,!=2.8.*,!=2.9.*,<3.0.0,>=1.34.1->google-ai-generativelanguage<0.7.0,>=0.6.16->langchain-google-genai) (1.62.3)\n",
            "Requirement already satisfied: cachetools<6.0,>=2.0.0 in /usr/local/lib/python3.11/dist-packages (from google-auth!=2.24.0,!=2.25.0,<3.0.0,>=2.14.1->google-ai-generativelanguage<0.7.0,>=0.6.16->langchain-google-genai) (5.5.2)\n",
            "Requirement already satisfied: pyasn1-modules>=0.2.1 in /usr/local/lib/python3.11/dist-packages (from google-auth!=2.24.0,!=2.25.0,<3.0.0,>=2.14.1->google-ai-generativelanguage<0.7.0,>=0.6.16->langchain-google-genai) (0.4.1)\n",
            "Requirement already satisfied: rsa<5,>=3.1.4 in /usr/local/lib/python3.11/dist-packages (from google-auth!=2.24.0,!=2.25.0,<3.0.0,>=2.14.1->google-ai-generativelanguage<0.7.0,>=0.6.16->langchain-google-genai) (4.9)\n",
            "Requirement already satisfied: anyio in /usr/local/lib/python3.11/dist-packages (from httpx<1,>=0.23.0->langsmith<0.4,>=0.1.17->langchain) (3.7.1)\n",
            "Requirement already satisfied: httpcore==1.* in /usr/local/lib/python3.11/dist-packages (from httpx<1,>=0.23.0->langsmith<0.4,>=0.1.17->langchain) (1.0.7)\n",
            "Requirement already satisfied: h11<0.15,>=0.13 in /usr/local/lib/python3.11/dist-packages (from httpcore==1.*->httpx<1,>=0.23.0->langsmith<0.4,>=0.1.17->langchain) (0.14.0)\n",
            "Requirement already satisfied: jsonpointer>=1.9 in /usr/local/lib/python3.11/dist-packages (from jsonpatch<2.0,>=1.33->langchain-core<1.0.0,>=0.3.41->langchain) (3.0.0)\n",
            "Requirement already satisfied: pyasn1<0.7.0,>=0.4.6 in /usr/local/lib/python3.11/dist-packages (from pyasn1-modules>=0.2.1->google-auth!=2.24.0,!=2.25.0,<3.0.0,>=2.14.1->google-ai-generativelanguage<0.7.0,>=0.6.16->langchain-google-genai) (0.6.1)\n",
            "Requirement already satisfied: sniffio>=1.1 in /usr/local/lib/python3.11/dist-packages (from anyio->httpx<1,>=0.23.0->langsmith<0.4,>=0.1.17->langchain) (1.3.1)\n",
            "Downloading langchain_google_genai-2.1.0-py3-none-any.whl (40 kB)\n",
            "\u001b[2K   \u001b[90m━━━━━━━━━━━━━━━━━━━━━━━━━━━━━━━━━━━━━━━━\u001b[0m \u001b[32m40.2/40.2 kB\u001b[0m \u001b[31m3.2 MB/s\u001b[0m eta \u001b[36m0:00:00\u001b[0m\n",
            "\u001b[?25hDownloading filetype-1.2.0-py2.py3-none-any.whl (19 kB)\n",
            "Downloading google_ai_generativelanguage-0.6.17-py3-none-any.whl (1.4 MB)\n",
            "\u001b[2K   \u001b[90m━━━━━━━━━━━━━━━━━━━━━━━━━━━━━━━━━━━━━━━━\u001b[0m \u001b[32m1.4/1.4 MB\u001b[0m \u001b[31m54.8 MB/s\u001b[0m eta \u001b[36m0:00:00\u001b[0m\n",
            "\u001b[?25hInstalling collected packages: filetype, google-ai-generativelanguage, langchain-google-genai\n",
            "  Attempting uninstall: google-ai-generativelanguage\n",
            "    Found existing installation: google-ai-generativelanguage 0.6.15\n",
            "    Uninstalling google-ai-generativelanguage-0.6.15:\n",
            "      Successfully uninstalled google-ai-generativelanguage-0.6.15\n",
            "\u001b[31mERROR: pip's dependency resolver does not currently take into account all the packages that are installed. This behaviour is the source of the following dependency conflicts.\n",
            "google-generativeai 0.8.4 requires google-ai-generativelanguage==0.6.15, but you have google-ai-generativelanguage 0.6.17 which is incompatible.\u001b[0m\u001b[31m\n",
            "\u001b[0mSuccessfully installed filetype-1.2.0 google-ai-generativelanguage-0.6.17 langchain-google-genai-2.1.0\n"
          ]
        },
        {
          "output_type": "display_data",
          "data": {
            "application/vnd.colab-display-data+json": {
              "pip_warning": {
                "packages": [
                  "google"
                ]
              },
              "id": "dc3de00b6e534107962ddf0a13eb915e"
            }
          },
          "metadata": {}
        }
      ],
      "source": [
        "!pip install langchain langchain-google-genai"
      ]
    },
    {
      "cell_type": "markdown",
      "metadata": {
        "id": "Jc7400EeKblR"
      },
      "source": [
        "To use Gemini with LangChain we need to create a `ChatGoogleGenerativeAI` class, that implements the `BaseChatModel` interface, which is responsible for the LLM calls and supporting function calling."
      ]
    },
    {
      "cell_type": "code",
      "execution_count": 1,
      "metadata": {
        "colab": {
          "base_uri": "https://localhost:8080/"
        },
        "id": "8aoy0JBUKblR",
        "outputId": "65808c61-3a05-4e10-8d17-7273ea394be9"
      },
      "outputs": [
        {
          "output_type": "stream",
          "name": "stdout",
          "text": [
            "I do not have access to real-time information, including live weather updates. To find out the weather in Beijing today, I recommend checking a reliable weather app or website such as:\n",
            "\n",
            "*   **AccuWeather:** [https://www.accuweather.com/en/cn/beijing/101010100/weather-forecast/101010100](https://www.accuweather.com/en/cn/beijing/101010100/weather-forecast/101010100)\n",
            "*   **The Weather Channel:** [https://weather.com/weather/today/l/101010100:1](https://weather.com/weather/today/l/101010100:1)\n",
            "*   **Google Weather:** Just search \"weather in Beijing\" on Google.\n",
            "\n",
            "These sources will provide you with the most up-to-date information on temperature, conditions, wind, and more.\n"
          ]
        }
      ],
      "source": [
        "import os\n",
        "from langchain_google_genai import ChatGoogleGenerativeAI\n",
        "\n",
        "\n",
        "# Get API key and define model id\n",
        "api_key = os.getenv(\"GEMINI_API_KEY\", \"PLACE_YOUR_API_KEY_HERE\" ) #\n",
        "model_id =  \"gemini-2.0-flash\"\n",
        "\n",
        "# Create LLM class\n",
        "llm = ChatGoogleGenerativeAI(\n",
        "    model=model_id,\n",
        "    temperature=0,\n",
        "    max_tokens=None,\n",
        "    timeout=None,\n",
        "    max_retries=2,\n",
        "    google_api_key=api_key,\n",
        ")\n",
        "\n",
        "# lets try it\n",
        "res = llm.invoke(\"What is the weather in Beijing today?\")\n",
        "print(res.content)"
      ]
    },
    {
      "cell_type": "markdown",
      "metadata": {
        "id": "H4Ng7c2kKblR"
      },
      "source": [
        "Great! This looks similar to our initial call without tools enabled. Now lets try to add the function calling capabilities. Similar to the [SDK LangChain supports automatic python function](https://python.langchain.com/docs/concepts/tool_calling/) to tool conversion. If you want to use a function as tool you can add a `@tool` decorator to the function.\n",
        "\n",
        "_Note: We copy the code from out `get_weather_forecast` function from the Python SDK example._"
      ]
    },
    {
      "cell_type": "code",
      "execution_count": 2,
      "metadata": {
        "id": "4tYvOZqfKblS"
      },
      "outputs": [],
      "source": [
        "from geopy.geocoders import Nominatim\n",
        "import requests\n",
        "from langchain.tools import tool\n",
        "\n",
        "geolocator = Nominatim(user_agent=\"weather-app\")\n",
        "\n",
        "@tool\n",
        "def get_weather_forecast(location: str, date: str) -> str:\n",
        "    \"\"\"Retrieves the weather using Open-Meteo API for a given location (city) and a date (yyyy-mm-dd). Returns a list dictionary with the time and temperature for each hour.\"\n",
        "\n",
        "    Args:\n",
        "        location (str): The city and state, e.g., San Francisco, CA\n",
        "        date (str): The forecasting date for when to get the weather format (yyyy-mm-dd)\n",
        "    Returns:\n",
        "        Dict[str, float]: A dictionary with the time as key and the temperature as value\n",
        "    \"\"\"\n",
        "    location = geolocator.geocode(location)\n",
        "    if location:\n",
        "        try:\n",
        "            response = requests.get(f\"https://api.open-meteo.com/v1/forecast?latitude={location.latitude}&longitude={location.longitude}&hourly=temperature_2m&start_date={date}&end_date={date}\")\n",
        "            data = response.json()\n",
        "            return {time: temp for time, temp in zip(data[\"hourly\"][\"time\"], data[\"hourly\"][\"temperature_2m\"])}\n",
        "        except Exception as e:\n",
        "            return {\"error\": str(e)}\n",
        "    else:\n",
        "        return {\"error\": \"Location not found\"}"
      ]
    },
    {
      "cell_type": "markdown",
      "metadata": {
        "id": "0g6wRKKHKblS"
      },
      "source": [
        "After we have our tool defined we can `bind` it to the LLM."
      ]
    },
    {
      "cell_type": "code",
      "execution_count": 3,
      "metadata": {
        "id": "b9MYldmwKblS"
      },
      "outputs": [],
      "source": [
        "llm_with_tools = llm.bind_tools([get_weather_forecast])"
      ]
    },
    {
      "cell_type": "markdown",
      "metadata": {
        "id": "YLeLmh6SKblS"
      },
      "source": [
        "Now, lets try it out."
      ]
    },
    {
      "cell_type": "code",
      "execution_count": 4,
      "metadata": {
        "colab": {
          "base_uri": "https://localhost:8080/"
        },
        "id": "JX78wFLZKblS",
        "outputId": "71356f9d-3dca-4480-f938-1cd661ad35f8"
      },
      "outputs": [
        {
          "output_type": "stream",
          "name": "stdout",
          "text": [
            "[{'name': 'get_weather_forecast', 'args': {'date': '2025-03-19', 'location': 'Beijing'}, 'id': 'beda2d55-733e-4d82-8e26-439745d99245', 'type': 'tool_call'}]\n"
          ]
        }
      ],
      "source": [
        "messages = [\n",
        "    (\n",
        "        \"system\",\n",
        "        \"You are a helpful assistant that use tools to access and retrieve information from a weather API. Today is 2025-03-19.\",\n",
        "    ),\n",
        "    (\"human\", \"What is the weather in Beijing today?\"),\n",
        "]\n",
        "\n",
        "# Call the LLM with the messages and tools\n",
        "res = llm_with_tools.invoke(messages)\n",
        "\n",
        "# Check if the LLM returned a function call\n",
        "if res.tool_calls:\n",
        "    print(res.tool_calls)"
      ]
    },
    {
      "cell_type": "markdown",
      "metadata": {
        "id": "CnDGctaZKblS"
      },
      "source": [
        "Great! It worked. Now, we would need to call our function with the arguments again and add the result to the conversation. Similar to the Python SDK example Langchain supports automatic function calling, through the `create_tool_calling_agent` and `AgentExecutor`.\n",
        "\n",
        "- `create_tool_calling_agent`: Creates an agent that can:\n",
        "  - Understand when to use available tools based on user input\n",
        "  - Generate structured arguments for tool calls\n",
        "  - Process tool outputs to create natural responses\n",
        "\n",
        "- `AgentExecutor`: Handles the execution flow by:\n",
        "  - Managing the conversation between user and agent\n",
        "  - Automatically calling tools when the agent requests them\n",
        "  - Handling any errors during tool execution\n",
        "  - Maintaining conversation context across multiple interactions"
      ]
    },
    {
      "cell_type": "code",
      "execution_count": 7,
      "metadata": {
        "colab": {
          "base_uri": "https://localhost:8080/"
        },
        "id": "aTaPlgiYKblS",
        "outputId": "0b8b2753-272a-4aaa-cebe-69f95b13868a"
      },
      "outputs": [
        {
          "output_type": "stream",
          "name": "stdout",
          "text": [
            "\n",
            "\n",
            "\u001b[1m> Entering new AgentExecutor chain...\u001b[0m\n",
            "\u001b[32;1m\u001b[1;3m\n",
            "Invoking: `get_weather_forecast` with `{'date': '2025-03-19', 'location': 'Beijing'}`\n",
            "\n",
            "\n",
            "\u001b[0m"
          ]
        },
        {
          "output_type": "stream",
          "name": "stderr",
          "text": [
            "WARNING:urllib3.connectionpool:Retrying (Retry(total=1, connect=None, read=None, redirect=None, status=None)) after connection broken by 'ReadTimeoutError(\"HTTPSConnectionPool(host='nominatim.openstreetmap.org', port=443): Read timed out. (read timeout=1)\")': /search?q=Beijing&format=json&limit=1\n"
          ]
        },
        {
          "output_type": "stream",
          "name": "stdout",
          "text": [
            "\u001b[36;1m\u001b[1;3m{'2025-03-19T00:00': 3.9, '2025-03-19T01:00': 9.5, '2025-03-19T02:00': 14.1, '2025-03-19T03:00': 16.6, '2025-03-19T04:00': 18.2, '2025-03-19T05:00': 19.4, '2025-03-19T06:00': 20.4, '2025-03-19T07:00': 20.7, '2025-03-19T08:00': 20.7, '2025-03-19T09:00': 20.4, '2025-03-19T10:00': 18.9, '2025-03-19T11:00': 16.1, '2025-03-19T12:00': 13.1, '2025-03-19T13:00': 11.5, '2025-03-19T14:00': 10.5, '2025-03-19T15:00': 8.7, '2025-03-19T16:00': 7.8, '2025-03-19T17:00': 7.6, '2025-03-19T18:00': 7.2, '2025-03-19T19:00': 7.0, '2025-03-19T20:00': 6.9, '2025-03-19T21:00': 6.7, '2025-03-19T22:00': 6.4, '2025-03-19T23:00': 6.5}\u001b[0m\u001b[32;1m\u001b[1;3mOK. The temperature in Beijing today, 2025-03-19, will be between 3.9 and 20.7 degrees Celsius.\u001b[0m\n",
            "\n",
            "\u001b[1m> Finished chain.\u001b[0m\n",
            "OK. The temperature in Beijing today, 2025-03-19, will be between 3.9 and 20.7 degrees Celsius.\n"
          ]
        }
      ],
      "source": [
        "from langchain.agents import create_tool_calling_agent, AgentExecutor\n",
        "from langchain_core.prompts import ChatPromptTemplate, MessagesPlaceholder\n",
        "\n",
        "# Initialize the prompt template\n",
        "prompt = ChatPromptTemplate.from_messages([\n",
        "    (\"system\", \"You are a helpful assistant that use tools to access and retrieve information from a weather API. Today is 2025-03-19.\"),\n",
        "    (\"human\", \"{input}\"),\n",
        "    MessagesPlaceholder(variable_name=\"agent_scratchpad\"),\n",
        "\n",
        "])\n",
        "\n",
        "# Create the agent and executor with out llm, tools and prompt\n",
        "agent = create_tool_calling_agent(llm_with_tools, [get_weather_forecast],prompt)\n",
        "agent_executor = AgentExecutor(agent=agent, tools=[get_weather_forecast], verbose=True)\n",
        "\n",
        "# Run our query\n",
        "res = agent_executor.invoke({\"input\": \"What is the weather in Beijing today?\"})\n",
        "print(res[\"output\"])"
      ]
    },
    {
      "cell_type": "markdown",
      "metadata": {
        "id": "qiveQTCPKblX"
      },
      "source": [
        "Awesome! It worked."
      ]
    },
    {
      "cell_type": "markdown",
      "metadata": {
        "id": "SmSQVe8HKblX"
      },
      "source": [
        "## Advanced: Function Calling with OpenAI Compatible API\n",
        "\n",
        "Google Gemini has an [OpenAI compatible API](https://ai.google.dev/gemini-api/docs/openai), which allows us to use Gemini models with the OpenAI API and SDKs. The API supports function calling out of the box, meaning we can use the OpenAI features to call our function."
      ]
    },
    {
      "cell_type": "code",
      "execution_count": 8,
      "metadata": {
        "colab": {
          "base_uri": "https://localhost:8080/"
        },
        "id": "xY3UFUUsKblX",
        "outputId": "f0b3af26-548e-4104-df4a-711048f0a871"
      },
      "outputs": [
        {
          "output_type": "stream",
          "name": "stdout",
          "text": [
            "Requirement already satisfied: openai in /usr/local/lib/python3.11/dist-packages (1.61.1)\n",
            "Requirement already satisfied: anyio<5,>=3.5.0 in /usr/local/lib/python3.11/dist-packages (from openai) (3.7.1)\n",
            "Requirement already satisfied: distro<2,>=1.7.0 in /usr/local/lib/python3.11/dist-packages (from openai) (1.9.0)\n",
            "Requirement already satisfied: httpx<1,>=0.23.0 in /usr/local/lib/python3.11/dist-packages (from openai) (0.28.1)\n",
            "Requirement already satisfied: jiter<1,>=0.4.0 in /usr/local/lib/python3.11/dist-packages (from openai) (0.9.0)\n",
            "Requirement already satisfied: pydantic<3,>=1.9.0 in /usr/local/lib/python3.11/dist-packages (from openai) (2.10.6)\n",
            "Requirement already satisfied: sniffio in /usr/local/lib/python3.11/dist-packages (from openai) (1.3.1)\n",
            "Requirement already satisfied: tqdm>4 in /usr/local/lib/python3.11/dist-packages (from openai) (4.67.1)\n",
            "Requirement already satisfied: typing-extensions<5,>=4.11 in /usr/local/lib/python3.11/dist-packages (from openai) (4.12.2)\n",
            "Requirement already satisfied: idna>=2.8 in /usr/local/lib/python3.11/dist-packages (from anyio<5,>=3.5.0->openai) (3.10)\n",
            "Requirement already satisfied: certifi in /usr/local/lib/python3.11/dist-packages (from httpx<1,>=0.23.0->openai) (2025.1.31)\n",
            "Requirement already satisfied: httpcore==1.* in /usr/local/lib/python3.11/dist-packages (from httpx<1,>=0.23.0->openai) (1.0.7)\n",
            "Requirement already satisfied: h11<0.15,>=0.13 in /usr/local/lib/python3.11/dist-packages (from httpcore==1.*->httpx<1,>=0.23.0->openai) (0.14.0)\n",
            "Requirement already satisfied: annotated-types>=0.6.0 in /usr/local/lib/python3.11/dist-packages (from pydantic<3,>=1.9.0->openai) (0.7.0)\n",
            "Requirement already satisfied: pydantic-core==2.27.2 in /usr/local/lib/python3.11/dist-packages (from pydantic<3,>=1.9.0->openai) (2.27.2)\n"
          ]
        }
      ],
      "source": [
        "!pip install openai"
      ]
    },
    {
      "cell_type": "code",
      "execution_count": 12,
      "metadata": {
        "id": "joEI3KDXKblX"
      },
      "outputs": [],
      "source": [
        "from openai import OpenAI\n",
        "\n",
        "# Get API key and define model id\n",
        "api_key = os.getenv(\"GEMINI_API_KEY\", \"PLACE_YOUR_API_KEY_HERE\" )\n",
        "model_id =  \"gemini-2.0-flash\"\n",
        "\n",
        "client = OpenAI(\n",
        "    api_key=api_key,\n",
        "    base_url=\"https://generativelanguage.googleapis.com/v1beta/openai/\"\n",
        ")"
      ]
    },
    {
      "cell_type": "markdown",
      "metadata": {
        "id": "pJhpEt8XKblX"
      },
      "source": [
        "Lets try it out.\n"
      ]
    },
    {
      "cell_type": "code",
      "execution_count": 14,
      "metadata": {
        "colab": {
          "base_uri": "https://localhost:8080/"
        },
        "id": "nfqx70iWKblX",
        "outputId": "77ebc15d-ee99-4b2d-a16f-361a1199099a"
      },
      "outputs": [
        {
          "output_type": "stream",
          "name": "stdout",
          "text": [
            "I do not have access to real-time information, including weather updates. To find out the weather in Beijing today, I recommend checking a reliable weather app or website such as:\n",
            "\n",
            "*   **AccuWeather:** [https://www.accuweather.com/en/cn/beijing/10101/weather-forecast/10101](https://www.accuweather.com/en/cn/beijing/10101/weather-forecast/10101)\n",
            "*   **The Weather Channel:** [https://weather.com/weather/today/l/beijing+china+CHXX0008](https://weather.com/weather/today/l/beijing+china+CHXX0008)\n",
            "*   **Google Weather:** Simply search \"weather in Beijing\" on Google.\n",
            "\n",
            "These sources will provide you with the most up-to-date weather information.\n"
          ]
        }
      ],
      "source": [
        "response = client.chat.completions.create(\n",
        "  model=model_id,\n",
        "  messages=[{\"role\": \"user\", \"content\": \"What is the weather in Beijing today?\"}],\n",
        ")\n",
        "\n",
        "print(response.choices[0].message.content)"
      ]
    },
    {
      "cell_type": "markdown",
      "metadata": {
        "id": "QEJKwF2uKblY"
      },
      "source": [
        "Great! Now lets our JSON Schema example."
      ]
    },
    {
      "cell_type": "code",
      "execution_count": 15,
      "metadata": {
        "colab": {
          "base_uri": "https://localhost:8080/"
        },
        "id": "23WahAJzKblY",
        "outputId": "dfa49d81-5304-4045-b149-c4c0b5109491"
      },
      "outputs": [
        {
          "output_type": "stream",
          "name": "stdout",
          "text": [
            "Function(arguments='{\"location\":\"Beijing, China\",\"date\":\"2025-03-19\"}', name='get_weather_forecast')\n"
          ]
        }
      ],
      "source": [
        "weather_function =   {\n",
        "    \"type\": \"function\",\n",
        "    \"function\": {\n",
        "    \"name\": \"get_weather_forecast\",\n",
        "    \"description\": \"Retrieves the weather using Open-Meteo API for a given location (city) and a date (yyyy-mm-dd). Returns a list dictionary with the time and temperature for each hour.\",\n",
        "    \"parameters\": {\n",
        "        \"type\": \"object\",\n",
        "        \"properties\": {\n",
        "            \"location\": {\n",
        "                \"type\": \"string\",\n",
        "                \"description\": \"The city and state, e.g., San Francisco, CA\"\n",
        "            },\n",
        "            \"date\": {\n",
        "                \"type\": \"string\",\n",
        "                \"description\": \"the forecasting date for when to get the weather format (yyyy-mm-dd)\"\n",
        "            }\n",
        "        },\n",
        "        \"required\": [\"location\",\"date\"]\n",
        "    }\n",
        "}}\n",
        "\n",
        "response = client.chat.completions.create(\n",
        "  model=model_id,\n",
        "  messages=[\n",
        "      {\"role\": \"system\", \"content\": \"You are a helpful assistant that use tools to access and retrieve information from a weather API. Today is 2025-03-19.\"},\n",
        "      {\"role\": \"user\", \"content\": \"What is the weather in Beijing today?\"}],\n",
        "  tools=[weather_function],\n",
        "  tool_choice=\"auto\"\n",
        ")\n",
        "\n",
        "if response.choices[0].message.tool_calls:\n",
        "    print(response.choices[0].message.tool_calls[0].function)"
      ]
    },
    {
      "cell_type": "markdown",
      "metadata": {
        "id": "-xZP9L_SKblY"
      },
      "source": [
        "Awesome! We successfully called our function and generated the structured response. If you are using the OpenAI SDK you can now easily test Gemini function calling."
      ]
    },
    {
      "cell_type": "code",
      "execution_count": null,
      "metadata": {
        "id": "3_j6I4xYKblY"
      },
      "outputs": [],
      "source": []
    }
  ],
  "metadata": {
    "kernelspec": {
      "display_name": ".venv",
      "language": "python",
      "name": "python3"
    },
    "language_info": {
      "codemirror_mode": {
        "name": "ipython",
        "version": 3
      },
      "file_extension": ".py",
      "mimetype": "text/x-python",
      "name": "python",
      "nbconvert_exporter": "python",
      "pygments_lexer": "ipython3",
      "version": "3.11.11"
    },
    "colab": {
      "provenance": []
    }
  },
  "nbformat": 4,
  "nbformat_minor": 0
}