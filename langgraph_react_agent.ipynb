{
  "cells": [
    {
      "cell_type": "markdown",
      "metadata": {
        "id": "-rWXgZorf762"
      },
      "source": [
        "# ReAct agent from scratch with Gemini 2.5 and LangGraph\n",
        "\n",
        "AI applications are evolving from simple chatbots to (semi-)autonomous systems capable of complex reasoning, planning, and interaction with the real world. We call these system agents.\n",
        "\n",
        "> An AI Agent is a system that uses LLMs to decide the control flow of an application.\n",
        "\n",
        "\n",
        "Agents are not just theoretical concepts; they are and will be deployed in production across various verticals, tackling increasingly more complex and longer-running tasks. In this blog post, we'll explore how to create a ReAct agent using Google's Gemini 2.5 Pro or Gemini 2.0 Flash and LangGraph from scratch."
      ]
    },
    {
      "cell_type": "markdown",
      "metadata": {
        "id": "xnv3CKFaf764"
      },
      "source": [
        "## What are ReAct Agents?\n",
        "\n",
        "ReACT (Reasoning and Acting) Agents are AI systems that combine reasoning capabilities of LLMs with action execution, enabling them to iteratively think through problems, use tools, and act based on observations to achieve the user goals.\n",
        "\n",
        "The ReAct pattern was first introduced in the [“ReAct: Synergizing Reasoning and Acting in Language Models”](https://arxiv.org/abs/2210.03629) in 2023. It was inspired by how humans plan and solve complex tasks, rather than implementing predefined workflows. ReAct agents rely on the LLM's reasoning capabilities to dynamically adjust their actions based on new information or the results of previous steps.\n",
        "\n",
        "ReACT Agents have gained traction due to their ability to handle complex tasks by breaking them into manageable reasoning steps and leveraging external tools.\n",
        "\n",
        "\n",
        "The ReAct agent:\n",
        "\n",
        "1. Takes a user **query** as input\n",
        "2. Reasons about the query and decides on an action\n",
        "3. Executes the chosen action using available tools\n",
        "4. Observes the result of the action\n",
        "5. Repeats steps 2-4 until it can provide a final answer\n",
        "\n",
        "### The First ReAct Agents\n",
        "\n",
        "These first-generation ReAct agents used a simple but effective prompting technique to generate a chain of \"Thought, Action, Observation\" steps:\n",
        "\n",
        "- \"Thought\" component plans the next action or decide it knows the final answer\n",
        "- \"Action\" interacts with external resources (like search engines or calculators).\n",
        "- \"Observation\" incorporates the results from the action into the reasoning process.\n",
        "\n",
        " Here's a pseudo-code example demonstrating the flow of an early ReAct agent.\n",
        "\n",
        "```xml\n",
        "User: Who is Olivia Wilde's boyfriend? What is his current age raised to the 0.23 power?\n",
        "\n",
        "Thought: I need to find out who Olivia Wilde's boyfriend is and then calculate his age raised to the 0.23 power.\n",
        "Action: [search(\"Olivia Wilde boyfriend\")]\n",
        "Observation: Olivia Wilde started dating Harry Styles after ending her years-long engagement to Jason Sudeikis — see their relationship timeline.\n",
        "\n",
        "Thought: I need to find out Harry Styles' age.\n",
        "Action: [search(\"Harry Styles age\")]\n",
        "Observation: 29 years\n",
        "\n",
        "Thought: I need to calculate 29 raised to the 0.23 power.\n",
        "Action: [calculator(29^0.23)]\n",
        "Observation: Answer: 2.169459462491557\n",
        "\n",
        "Thought: I now know the final answer.\n",
        "Final Answer: Harry Styles, Olivia Wilde's boyfriend, is 29 years old and his age raised to the 0.23 power is 2.169459462491557.\n",
        "```\n",
        "\n",
        "### Current ReAct Agents\n",
        "\n",
        "Since the introduction of ReAct Agent the capabilities of LLMs has evolved. One of the most important improvements we made is function calling. **Function calling allows us to to connect LLMs to external tools in a structured way, which is more reliable than parsing raw text and reduces the likelihood of errors and hallucinations.**\n",
        "\n",
        "Here's a pseudo-code example demonstrating the flow of an ReAct agent using function calling\n",
        "\n",
        "```xml\n",
        "User: Who is Olivia Wilde's boyfriend? What is his current age raised to the 0.23 power?\n",
        "\n",
        "Assistant: FunctionCall(name=\"search\", args={\"query\": \"Olivia Wilde boyfriend\"})\n",
        "User: FunctionResponse(result=\"Olivia Wilde started dating Harry Styles after ending her years-long engagement to Jason Sudeikis — see their relationship timeline.\")\n",
        "\n",
        "Assistant: FunctionCall(name=\"search\", args={\"query\": \"Harry Styles age\"})\n",
        "User: FunctionResponse(result=\"29 years\")\n",
        "\n",
        "Assistant: FunctionCall(name=\"calculator\", args={\"expression\": \"29^0.23\"})\n",
        "User: FunctionResponse(result=\"2.169459462491557\")\n",
        "\n",
        "Assistant: Harry Styles, Olivia Wilde's boyfriend, is 29 years old. His age raised to the 0.23 power is 2.169459462491557.\n",
        "```\n",
        "\n",
        "### Traditional ReAct Agents vs. Current ReAct Agents (Function Calling)\n",
        "\n",
        "| **Aspect** | **Traditional ReAct Agents** | **Current ReAct Agents (Function Calling)** |\n",
        "| --- | --- | --- |\n",
        "| Actions | Text-based description, parsed by system | Direct function calls in structured format |\n",
        "| Efficiency | Lower, due to parsing errors | Higher, with reduced parsing overhead |\n",
        "| Reliability | More prone to errors and hallucinations | More reliable and accurate tool execution |\n",
        "| LLM Requirement | Works with any LLM | Requires LLMs supporting function calling |\n",
        "| Implementation | Primarily through careful prompt engineering | Often facilitated by SDKs and frameworks like LangGraph |"
      ]
    },
    {
      "cell_type": "markdown",
      "metadata": {
        "id": "B5bOvWcEf765"
      },
      "source": [
        "# How to create a ReAct agent from scratch with LangGraph\n",
        "\n",
        "We know have base understanding on how ReAct agents work. Now, let’s build our own from scratch. We are going to use LangGraph and Gemini 2.5 Pro. LangGraph is framework for building controllable agents. LangGraph comes already with prebuilt ReAct agent [create_react_agent](https://langchain-ai.github.io/langgraph/reference/prebuilt/#langgraph.prebuilt.chat_agent_executor.create_react_agent), but sometimes you might want more control and customization.\n",
        "Additionally, It is good to understand the underlying concepts and how to build your own ReAct agent from scratch.\n",
        "\n",
        "LangGraph models agent as graphs. You define the behavior of agents using three key components:\n",
        "- `State`: Shared data structure that represents the current snapshot of your application. It can be any Python type, but is typically a TypedDict or Pydantic BaseModel, which is shared across all nodes.\n",
        "- `Nodes`: Encodes logic of your agents. They receive the current State as input, perform some computation or side-effect, and return an updated State, e.g. LLM calls, tool calls, etc.\n",
        "- `Edges`: Determine which Node to execute next based on the current State. They can be conditional branches or fixed transitions.\n",
        "\n",
        "First, we installed required packages and set our API keys. If you don't have an API Key yet you can get one for free in the [Google AI Studio](https://aistudio.google.com/app/apikey)."
      ]
    },
    {
      "cell_type": "code",
      "execution_count": 1,
      "metadata": {
        "colab": {
          "base_uri": "https://localhost:8080/",
          "height": 1000
        },
        "id": "Vovp72kdf765",
        "outputId": "587e4a39-bade-4e35-ac34-f4e6604f6ce7"
      },
      "outputs": [
        {
          "name": "stdout",
          "output_type": "stream",
          "text": [
            "Collecting langgraph\n",
            "  Downloading langgraph-0.3.21-py3-none-any.whl.metadata (7.7 kB)\n",
            "Collecting langchain-google-genai\n",
            "  Downloading langchain_google_genai-2.1.2-py3-none-any.whl.metadata (4.7 kB)\n",
            "Requirement already satisfied: geopy in /usr/local/lib/python3.11/dist-packages (2.4.1)\n",
            "Requirement already satisfied: requests in /usr/local/lib/python3.11/dist-packages (2.32.3)\n",
            "Requirement already satisfied: langchain-core<0.4,>=0.1 in /usr/local/lib/python3.11/dist-packages (from langgraph) (0.3.49)\n",
            "Collecting langgraph-checkpoint<3.0.0,>=2.0.10 (from langgraph)\n",
            "  Downloading langgraph_checkpoint-2.0.23-py3-none-any.whl.metadata (4.6 kB)\n",
            "Collecting langgraph-prebuilt<0.2,>=0.1.1 (from langgraph)\n",
            "  Downloading langgraph_prebuilt-0.1.7-py3-none-any.whl.metadata (5.0 kB)\n",
            "Collecting langgraph-sdk<0.2.0,>=0.1.42 (from langgraph)\n",
            "  Downloading langgraph_sdk-0.1.60-py3-none-any.whl.metadata (1.8 kB)\n",
            "Collecting xxhash<4.0.0,>=3.5.0 (from langgraph)\n",
            "  Downloading xxhash-3.5.0-cp311-cp311-manylinux_2_17_x86_64.manylinux2014_x86_64.whl.metadata (12 kB)\n",
            "Collecting filetype<2.0.0,>=1.2.0 (from langchain-google-genai)\n",
            "  Downloading filetype-1.2.0-py2.py3-none-any.whl.metadata (6.5 kB)\n",
            "Collecting google-ai-generativelanguage<0.7.0,>=0.6.16 (from langchain-google-genai)\n",
            "  Downloading google_ai_generativelanguage-0.6.17-py3-none-any.whl.metadata (9.8 kB)\n",
            "Requirement already satisfied: pydantic<3,>=2 in /usr/local/lib/python3.11/dist-packages (from langchain-google-genai) (2.11.0)\n",
            "Requirement already satisfied: geographiclib<3,>=1.52 in /usr/local/lib/python3.11/dist-packages (from geopy) (2.0)\n",
            "Requirement already satisfied: charset-normalizer<4,>=2 in /usr/local/lib/python3.11/dist-packages (from requests) (3.4.1)\n",
            "Requirement already satisfied: idna<4,>=2.5 in /usr/local/lib/python3.11/dist-packages (from requests) (3.10)\n",
            "Requirement already satisfied: urllib3<3,>=1.21.1 in /usr/local/lib/python3.11/dist-packages (from requests) (2.3.0)\n",
            "Requirement already satisfied: certifi>=2017.4.17 in /usr/local/lib/python3.11/dist-packages (from requests) (2025.1.31)\n",
            "Requirement already satisfied: google-api-core!=2.0.*,!=2.1.*,!=2.10.*,!=2.2.*,!=2.3.*,!=2.4.*,!=2.5.*,!=2.6.*,!=2.7.*,!=2.8.*,!=2.9.*,<3.0.0,>=1.34.1 in /usr/local/lib/python3.11/dist-packages (from google-api-core[grpc]!=2.0.*,!=2.1.*,!=2.10.*,!=2.2.*,!=2.3.*,!=2.4.*,!=2.5.*,!=2.6.*,!=2.7.*,!=2.8.*,!=2.9.*,<3.0.0,>=1.34.1->google-ai-generativelanguage<0.7.0,>=0.6.16->langchain-google-genai) (2.24.2)\n",
            "Requirement already satisfied: google-auth!=2.24.0,!=2.25.0,<3.0.0,>=2.14.1 in /usr/local/lib/python3.11/dist-packages (from google-ai-generativelanguage<0.7.0,>=0.6.16->langchain-google-genai) (2.38.0)\n",
            "Requirement already satisfied: proto-plus<2.0.0,>=1.22.3 in /usr/local/lib/python3.11/dist-packages (from google-ai-generativelanguage<0.7.0,>=0.6.16->langchain-google-genai) (1.26.1)\n",
            "Requirement already satisfied: protobuf!=4.21.0,!=4.21.1,!=4.21.2,!=4.21.3,!=4.21.4,!=4.21.5,<7.0.0,>=3.20.2 in /usr/local/lib/python3.11/dist-packages (from google-ai-generativelanguage<0.7.0,>=0.6.16->langchain-google-genai) (5.29.4)\n",
            "Requirement already satisfied: langsmith<0.4,>=0.1.125 in /usr/local/lib/python3.11/dist-packages (from langchain-core<0.4,>=0.1->langgraph) (0.3.19)\n",
            "Requirement already satisfied: tenacity!=8.4.0,<10.0.0,>=8.1.0 in /usr/local/lib/python3.11/dist-packages (from langchain-core<0.4,>=0.1->langgraph) (9.0.0)\n",
            "Requirement already satisfied: jsonpatch<2.0,>=1.33 in /usr/local/lib/python3.11/dist-packages (from langchain-core<0.4,>=0.1->langgraph) (1.33)\n",
            "Requirement already satisfied: PyYAML>=5.3 in /usr/local/lib/python3.11/dist-packages (from langchain-core<0.4,>=0.1->langgraph) (6.0.2)\n",
            "Requirement already satisfied: packaging<25,>=23.2 in /usr/local/lib/python3.11/dist-packages (from langchain-core<0.4,>=0.1->langgraph) (24.2)\n",
            "Requirement already satisfied: typing-extensions>=4.7 in /usr/local/lib/python3.11/dist-packages (from langchain-core<0.4,>=0.1->langgraph) (4.13.0)\n",
            "Collecting ormsgpack<2.0.0,>=1.8.0 (from langgraph-checkpoint<3.0.0,>=2.0.10->langgraph)\n",
            "  Downloading ormsgpack-1.9.1-cp311-cp311-manylinux_2_17_x86_64.manylinux2014_x86_64.whl.metadata (43 kB)\n",
            "\u001b[2K     \u001b[90m━━━━━━━━━━━━━━━━━━━━━━━━━━━━━━━━━━━━━━━━\u001b[0m \u001b[32m43.5/43.5 kB\u001b[0m \u001b[31m1.5 MB/s\u001b[0m eta \u001b[36m0:00:00\u001b[0m\n",
            "\u001b[?25hRequirement already satisfied: httpx>=0.25.2 in /usr/local/lib/python3.11/dist-packages (from langgraph-sdk<0.2.0,>=0.1.42->langgraph) (0.28.1)\n",
            "Requirement already satisfied: orjson>=3.10.1 in /usr/local/lib/python3.11/dist-packages (from langgraph-sdk<0.2.0,>=0.1.42->langgraph) (3.10.16)\n",
            "Requirement already satisfied: annotated-types>=0.6.0 in /usr/local/lib/python3.11/dist-packages (from pydantic<3,>=2->langchain-google-genai) (0.7.0)\n",
            "Requirement already satisfied: pydantic-core==2.33.0 in /usr/local/lib/python3.11/dist-packages (from pydantic<3,>=2->langchain-google-genai) (2.33.0)\n",
            "Requirement already satisfied: typing-inspection>=0.4.0 in /usr/local/lib/python3.11/dist-packages (from pydantic<3,>=2->langchain-google-genai) (0.4.0)\n",
            "Requirement already satisfied: googleapis-common-protos<2.0.0,>=1.56.2 in /usr/local/lib/python3.11/dist-packages (from google-api-core!=2.0.*,!=2.1.*,!=2.10.*,!=2.2.*,!=2.3.*,!=2.4.*,!=2.5.*,!=2.6.*,!=2.7.*,!=2.8.*,!=2.9.*,<3.0.0,>=1.34.1->google-api-core[grpc]!=2.0.*,!=2.1.*,!=2.10.*,!=2.2.*,!=2.3.*,!=2.4.*,!=2.5.*,!=2.6.*,!=2.7.*,!=2.8.*,!=2.9.*,<3.0.0,>=1.34.1->google-ai-generativelanguage<0.7.0,>=0.6.16->langchain-google-genai) (1.69.2)\n",
            "Requirement already satisfied: grpcio<2.0dev,>=1.33.2 in /usr/local/lib/python3.11/dist-packages (from google-api-core[grpc]!=2.0.*,!=2.1.*,!=2.10.*,!=2.2.*,!=2.3.*,!=2.4.*,!=2.5.*,!=2.6.*,!=2.7.*,!=2.8.*,!=2.9.*,<3.0.0,>=1.34.1->google-ai-generativelanguage<0.7.0,>=0.6.16->langchain-google-genai) (1.71.0)\n",
            "Requirement already satisfied: grpcio-status<2.0.dev0,>=1.33.2 in /usr/local/lib/python3.11/dist-packages (from google-api-core[grpc]!=2.0.*,!=2.1.*,!=2.10.*,!=2.2.*,!=2.3.*,!=2.4.*,!=2.5.*,!=2.6.*,!=2.7.*,!=2.8.*,!=2.9.*,<3.0.0,>=1.34.1->google-ai-generativelanguage<0.7.0,>=0.6.16->langchain-google-genai) (1.71.0)\n",
            "Requirement already satisfied: cachetools<6.0,>=2.0.0 in /usr/local/lib/python3.11/dist-packages (from google-auth!=2.24.0,!=2.25.0,<3.0.0,>=2.14.1->google-ai-generativelanguage<0.7.0,>=0.6.16->langchain-google-genai) (5.5.2)\n",
            "Requirement already satisfied: pyasn1-modules>=0.2.1 in /usr/local/lib/python3.11/dist-packages (from google-auth!=2.24.0,!=2.25.0,<3.0.0,>=2.14.1->google-ai-generativelanguage<0.7.0,>=0.6.16->langchain-google-genai) (0.4.2)\n",
            "Requirement already satisfied: rsa<5,>=3.1.4 in /usr/local/lib/python3.11/dist-packages (from google-auth!=2.24.0,!=2.25.0,<3.0.0,>=2.14.1->google-ai-generativelanguage<0.7.0,>=0.6.16->langchain-google-genai) (4.9)\n",
            "Requirement already satisfied: anyio in /usr/local/lib/python3.11/dist-packages (from httpx>=0.25.2->langgraph-sdk<0.2.0,>=0.1.42->langgraph) (4.9.0)\n",
            "Requirement already satisfied: httpcore==1.* in /usr/local/lib/python3.11/dist-packages (from httpx>=0.25.2->langgraph-sdk<0.2.0,>=0.1.42->langgraph) (1.0.7)\n",
            "Requirement already satisfied: h11<0.15,>=0.13 in /usr/local/lib/python3.11/dist-packages (from httpcore==1.*->httpx>=0.25.2->langgraph-sdk<0.2.0,>=0.1.42->langgraph) (0.14.0)\n",
            "Requirement already satisfied: jsonpointer>=1.9 in /usr/local/lib/python3.11/dist-packages (from jsonpatch<2.0,>=1.33->langchain-core<0.4,>=0.1->langgraph) (3.0.0)\n",
            "Requirement already satisfied: requests-toolbelt<2.0.0,>=1.0.0 in /usr/local/lib/python3.11/dist-packages (from langsmith<0.4,>=0.1.125->langchain-core<0.4,>=0.1->langgraph) (1.0.0)\n",
            "Requirement already satisfied: zstandard<0.24.0,>=0.23.0 in /usr/local/lib/python3.11/dist-packages (from langsmith<0.4,>=0.1.125->langchain-core<0.4,>=0.1->langgraph) (0.23.0)\n",
            "Requirement already satisfied: pyasn1<0.7.0,>=0.6.1 in /usr/local/lib/python3.11/dist-packages (from pyasn1-modules>=0.2.1->google-auth!=2.24.0,!=2.25.0,<3.0.0,>=2.14.1->google-ai-generativelanguage<0.7.0,>=0.6.16->langchain-google-genai) (0.6.1)\n",
            "Requirement already satisfied: sniffio>=1.1 in /usr/local/lib/python3.11/dist-packages (from anyio->httpx>=0.25.2->langgraph-sdk<0.2.0,>=0.1.42->langgraph) (1.3.1)\n",
            "Downloading langgraph-0.3.21-py3-none-any.whl (138 kB)\n",
            "\u001b[2K   \u001b[90m━━━━━━━━━━━━━━━━━━━━━━━━━━━━━━━━━━━━━━━━\u001b[0m \u001b[32m138.0/138.0 kB\u001b[0m \u001b[31m5.2 MB/s\u001b[0m eta \u001b[36m0:00:00\u001b[0m\n",
            "\u001b[?25hDownloading langchain_google_genai-2.1.2-py3-none-any.whl (42 kB)\n",
            "\u001b[2K   \u001b[90m━━━━━━━━━━━━━━━━━━━━━━━━━━━━━━━━━━━━━━━━\u001b[0m \u001b[32m42.0/42.0 kB\u001b[0m \u001b[31m1.7 MB/s\u001b[0m eta \u001b[36m0:00:00\u001b[0m\n",
            "\u001b[?25hDownloading filetype-1.2.0-py2.py3-none-any.whl (19 kB)\n",
            "Downloading google_ai_generativelanguage-0.6.17-py3-none-any.whl (1.4 MB)\n",
            "\u001b[2K   \u001b[90m━━━━━━━━━━━━━━━━━━━━━━━━━━━━━━━━━━━━━━━━\u001b[0m \u001b[32m1.4/1.4 MB\u001b[0m \u001b[31m13.6 MB/s\u001b[0m eta \u001b[36m0:00:00\u001b[0m\n",
            "\u001b[?25hDownloading langgraph_checkpoint-2.0.23-py3-none-any.whl (41 kB)\n",
            "\u001b[2K   \u001b[90m━━━━━━━━━━━━━━━━━━━━━━━━━━━━━━━━━━━━━━━━\u001b[0m \u001b[32m41.9/41.9 kB\u001b[0m \u001b[31m2.3 MB/s\u001b[0m eta \u001b[36m0:00:00\u001b[0m\n",
            "\u001b[?25hDownloading langgraph_prebuilt-0.1.7-py3-none-any.whl (25 kB)\n",
            "Downloading langgraph_sdk-0.1.60-py3-none-any.whl (47 kB)\n",
            "\u001b[2K   \u001b[90m━━━━━━━━━━━━━━━━━━━━━━━━━━━━━━━━━━━━━━━━\u001b[0m \u001b[32m47.1/47.1 kB\u001b[0m \u001b[31m2.6 MB/s\u001b[0m eta \u001b[36m0:00:00\u001b[0m\n",
            "\u001b[?25hDownloading xxhash-3.5.0-cp311-cp311-manylinux_2_17_x86_64.manylinux2014_x86_64.whl (194 kB)\n",
            "\u001b[2K   \u001b[90m━━━━━━━━━━━━━━━━━━━━━━━━━━━━━━━━━━━━━━━━\u001b[0m \u001b[32m194.8/194.8 kB\u001b[0m \u001b[31m6.7 MB/s\u001b[0m eta \u001b[36m0:00:00\u001b[0m\n",
            "\u001b[?25hDownloading ormsgpack-1.9.1-cp311-cp311-manylinux_2_17_x86_64.manylinux2014_x86_64.whl (223 kB)\n",
            "\u001b[2K   \u001b[90m━━━━━━━━━━━━━━━━━━━━━━━━━━━━━━━━━━━━━━━━\u001b[0m \u001b[32m223.6/223.6 kB\u001b[0m \u001b[31m12.1 MB/s\u001b[0m eta \u001b[36m0:00:00\u001b[0m\n",
            "\u001b[?25hInstalling collected packages: filetype, xxhash, ormsgpack, langgraph-sdk, langgraph-checkpoint, google-ai-generativelanguage, langgraph-prebuilt, langchain-google-genai, langgraph\n",
            "  Attempting uninstall: google-ai-generativelanguage\n",
            "    Found existing installation: google-ai-generativelanguage 0.6.15\n",
            "    Uninstalling google-ai-generativelanguage-0.6.15:\n",
            "      Successfully uninstalled google-ai-generativelanguage-0.6.15\n",
            "\u001b[31mERROR: pip's dependency resolver does not currently take into account all the packages that are installed. This behaviour is the source of the following dependency conflicts.\n",
            "google-generativeai 0.8.4 requires google-ai-generativelanguage==0.6.15, but you have google-ai-generativelanguage 0.6.17 which is incompatible.\u001b[0m\u001b[31m\n",
            "\u001b[0mSuccessfully installed filetype-1.2.0 google-ai-generativelanguage-0.6.17 langchain-google-genai-2.1.2 langgraph-0.3.21 langgraph-checkpoint-2.0.23 langgraph-prebuilt-0.1.7 langgraph-sdk-0.1.60 ormsgpack-1.9.1 xxhash-3.5.0\n"
          ]
        },
        {
          "data": {
            "application/vnd.colab-display-data+json": {
              "id": "617586ee855747ec84301fc113cfb5c2",
              "pip_warning": {
                "packages": [
                  "google"
                ]
              }
            }
          },
          "metadata": {},
          "output_type": "display_data"
        }
      ],
      "source": [
        "%pip install langgraph langchain-google-genai geopy requests"
      ]
    },
    {
      "cell_type": "code",
      "execution_count": null,
      "metadata": {
        "id": "IFU8vZ-yf766"
      },
      "outputs": [],
      "source": [
        "import os\n",
        "\n",
        "# Read your API key from the environment variable or set it manually\n",
        "api_key = os.getenv(\"GEMINI_API_KEY\", \"place_your_key_here\") # "
      ]
    },
    {
      "cell_type": "markdown",
      "metadata": {
        "id": "XSpNdyFxf767"
      },
      "source": [
        "We are going to create the most basic ReAct agents, which uses mocked 1 tool to retrieve the weather for a given location. For this we need to store the conversation history as a list of messages in our graph state. We are going to use the [add_messages](https://langchain-ai.github.io/langgraph/reference/graphs/#langgraph.graph.message.add_messages) helper function to add messages to the state. The `add_messages` function is a [reducer](https://langchain-ai.github.io/langgraph/concepts/low_level/#reducers) that merges two lists of messages, updating existing messages by ID and ensures the state is \"append-only\", unless the new message has the same ID as an existing message. For demonstration purposes we also store the number of steps in the state.\n",
        "\n",
        "Note: Since having a list of messages in the state is so common, there exists a prebuilt state called `MessagesState` which makes it easy to use messages."
      ]
    },
    {
      "cell_type": "code",
      "execution_count": 2,
      "metadata": {
        "id": "Nd_-arg7f767"
      },
      "outputs": [],
      "source": [
        "from typing import Annotated, Sequence, TypedDict\n",
        "\n",
        "from langchain_core.messages import BaseMessage\n",
        "from langgraph.graph.message import add_messages # helper function to add messages to the state\n",
        "\n",
        "\n",
        "class AgentState(TypedDict):\n",
        "    \"\"\"The state of the agent.\"\"\"\n",
        "    messages: Annotated[Sequence[BaseMessage], add_messages]\n",
        "    number_of_steps: int"
      ]
    },
    {
      "cell_type": "markdown",
      "metadata": {
        "id": "nbSZjfShf767"
      },
      "source": [
        "Next, we define our weather tool.\n",
        "\n"
      ]
    },
    {
      "cell_type": "code",
      "execution_count": 3,
      "metadata": {
        "id": "faUclL7Lf767"
      },
      "outputs": [],
      "source": [
        "from langchain_core.tools import tool\n",
        "from geopy.geocoders import Nominatim\n",
        "from pydantic import BaseModel, Field\n",
        "import requests\n",
        "\n",
        "geolocator = Nominatim(user_agent=\"weather-app\")\n",
        "\n",
        "class SearchInput(BaseModel):\n",
        "    location:str = Field(description=\"The city and state, e.g., San Francisco\")\n",
        "    date:str = Field(description=\"the forecasting date for when to get the weather format (yyyy-mm-dd)\")\n",
        "\n",
        "@tool(\"get_weather_forecast\", args_schema=SearchInput, return_direct=True)\n",
        "def get_weather_forecast(location: str, date: str):\n",
        "    \"\"\"Retrieves the weather using Open-Meteo API for a given location (city) and a date (yyyy-mm-dd). Returns a list dictionary with the time and temperature for each hour.\"\"\"\n",
        "    location = geolocator.geocode(location)\n",
        "    if location:\n",
        "        try:\n",
        "            response = requests.get(f\"https://api.open-meteo.com/v1/forecast?latitude={location.latitude}&longitude={location.longitude}&hourly=temperature_2m&start_date={date}&end_date={date}\")\n",
        "            data = response.json()\n",
        "            return {time: temp for time, temp in zip(data[\"hourly\"][\"time\"], data[\"hourly\"][\"temperature_2m\"])}\n",
        "        except Exception as e:\n",
        "            return {\"error\": str(e)}\n",
        "    else:\n",
        "        return {\"error\": \"Location not found\"}\n",
        "\n",
        "tools = [get_weather_forecast]"
      ]
    },
    {
      "cell_type": "markdown",
      "metadata": {
        "id": "MOpj1LdBf767"
      },
      "source": [
        "Next, we initalize our model and bind the tools to the model."
      ]
    },
    {
      "cell_type": "code",
      "execution_count": 11,
      "metadata": {
        "colab": {
          "base_uri": "https://localhost:8080/"
        },
        "id": "M7rt-6_Nf768",
        "outputId": "00e30fa0-34db-478d-c24b-55549f986bd7"
      },
      "outputs": [
        {
          "data": {
            "text/plain": [
              "AIMessage(content='', additional_kwargs={'function_call': {'name': 'get_weather_forecast', 'arguments': '{\"date\": \"2025-04-01\", \"location\": \"Beijing\"}'}}, response_metadata={'prompt_feedback': {'block_reason': 0, 'safety_ratings': []}, 'finish_reason': 'STOP', 'model_name': 'gemini-2.5-pro-exp-03-25', 'safety_ratings': []}, id='run-90cfed77-c07b-4d37-a12e-f063abfd6f79-0', tool_calls=[{'name': 'get_weather_forecast', 'args': {'date': '2025-04-01', 'location': 'Beijing'}, 'id': '5dd592a4-0aa5-4f8f-80a4-1f15baac7241', 'type': 'tool_call'}], usage_metadata={'input_tokens': 131, 'output_tokens': 31, 'total_tokens': 162, 'input_token_details': {'cache_read': 0}})"
            ]
          },
          "execution_count": 11,
          "metadata": {},
          "output_type": "execute_result"
        }
      ],
      "source": [
        "from langchain_google_genai import ChatGoogleGenerativeAI\n",
        "\n",
        "# Create LLM class\n",
        "llm = ChatGoogleGenerativeAI(\n",
        "    model= \"gemini-2.5-pro-exp-03-25\", # replace with \"gemini-2.0-flash\"\n",
        "    temperature=1.0,\n",
        "    max_tokens=None,\n",
        "    timeout=None,\n",
        "    max_retries=2,\n",
        "    google_api_key=api_key,\n",
        ")\n",
        "\n",
        "# Bind tools to the model\n",
        "model = llm.bind_tools([get_weather_forecast])\n",
        "\n",
        "# Test the model with tools\n",
        "model.invoke(\"What is the weather in Beijing on 1st of April 2025?\")"
      ]
    },
    {
      "cell_type": "markdown",
      "metadata": {
        "id": "yql0qMDbf768"
      },
      "source": [
        "The last step before we can run our agent is to define our nodes and edges. In our examples we have **two nodes and 1 edge**.\n",
        "- `call_tool` **node** that executes our tool method. LangGraph has a prebuilt node for this called [ToolNode](https://langchain-ai.github.io/langgraph/how-tos/tool-calling/).\n",
        "- `call_model` **node** that uses the `model_with_tools` to call the model.\n",
        "- `should_continue` **edge** that decides whether to call the tool or the model.\n",
        "\n",
        "**The number of nodes and edges is not fixed. You can add as many nodes and edges as you want to your graph.** For example, you could add a node for adding structured output or self-verification/reflection node to check the model output before calling the tool or the model."
      ]
    },
    {
      "cell_type": "code",
      "execution_count": 5,
      "metadata": {
        "id": "nDIwI8vBf768"
      },
      "outputs": [],
      "source": [
        "import json\n",
        "from langchain_core.messages import ToolMessage, SystemMessage\n",
        "from langchain_core.runnables import RunnableConfig\n",
        "\n",
        "tools_by_name = {tool.name: tool for tool in tools}\n",
        "\n",
        "# this is similar to customizing the create_react_agent with 'prompt' parameter, but is more flexible\n",
        "# system_prompt = SystemMessage(\n",
        "#     \"You are a helpful assistant that use tools to access and retrieve information from a weather API. Today is 2025-04-01. Help the user with their questions. Use the history to answer the question.\"\n",
        "# )\n",
        "\n",
        "# Define our tool node\n",
        "def call_tool(state: AgentState):\n",
        "    outputs = []\n",
        "    # Iterate over the tool calls in the last message\n",
        "    for tool_call in state[\"messages\"][-1].tool_calls:\n",
        "        # Get the tool by name\n",
        "        tool_result = tools_by_name[tool_call[\"name\"]].invoke(tool_call[\"args\"])\n",
        "        outputs.append(\n",
        "            ToolMessage(\n",
        "                content=tool_result,\n",
        "                name=tool_call[\"name\"],\n",
        "                tool_call_id=tool_call[\"id\"],\n",
        "            )\n",
        "        )\n",
        "    return {\"messages\": outputs}\n",
        "\n",
        "def call_model(\n",
        "    state: AgentState,\n",
        "    config: RunnableConfig,\n",
        "):\n",
        "    # Invoke the model with the system prompt and the messages\n",
        "    response = model.invoke(state[\"messages\"], config)\n",
        "    # We return a list, because this will get added to the existing messages state using the add_messages reducer\n",
        "    return {\"messages\": [response]}\n",
        "\n",
        "\n",
        "# Define the conditional edge that determines whether to continue or not\n",
        "def should_continue(state: AgentState):\n",
        "    messages = state[\"messages\"]\n",
        "    # If the last message is not a tool call, then we finish\n",
        "    if not messages[-1].tool_calls:\n",
        "        return \"end\"\n",
        "    # default to continue\n",
        "    return \"continue\""
      ]
    },
    {
      "cell_type": "markdown",
      "metadata": {
        "id": "Gk4Chuggf768"
      },
      "source": [
        "Awesome, now we have all the components to build our agent. Let's put them together."
      ]
    },
    {
      "cell_type": "code",
      "execution_count": 6,
      "metadata": {
        "id": "wFJ9llmhf768"
      },
      "outputs": [],
      "source": [
        "from langgraph.graph import StateGraph, END\n",
        "\n",
        "# Define a new graph with our state\n",
        "workflow = StateGraph(AgentState)\n",
        "\n",
        "# 1. Add our nodes\n",
        "workflow.add_node(\"llm\", call_model)\n",
        "workflow.add_node(\"tools\",  call_tool)\n",
        "# 2. Set the entrypoint as `agent`, this is the first node called\n",
        "workflow.set_entry_point(\"llm\")\n",
        "# 3. Add a conditional edge after the `llm` node is called.\n",
        "workflow.add_conditional_edges(\n",
        "    # Edge is used after the `llm` node is called.\n",
        "    \"llm\",\n",
        "    # The function that will determine which node is called next.\n",
        "    should_continue,\n",
        "    # Mapping for where to go next, keys are strings from the function return, and the values are other nodes.\n",
        "    # END is a special node marking that the graph is finish.\n",
        "    {\n",
        "        # If `tools`, then we call the tool node.\n",
        "        \"continue\": \"tools\",\n",
        "        # Otherwise we finish.\n",
        "        \"end\": END,\n",
        "    },\n",
        ")\n",
        "# 4. Add a normal edge after `tools` is called, `llm` node is called next.\n",
        "workflow.add_edge(\"tools\", \"llm\")\n",
        "\n",
        "# Now we can compile and visualize our graph\n",
        "graph = workflow.compile()"
      ]
    },
    {
      "cell_type": "markdown",
      "metadata": {
        "id": "mzsMw9hXf768"
      },
      "source": [
        "We can visualize our graph using the `draw_mermaid_png` method."
      ]
    },
    {
      "cell_type": "code",
      "execution_count": 7,
      "metadata": {
        "colab": {
          "base_uri": "https://localhost:8080/",
          "height": 290
        },
        "id": "6wTNJjKpf769",
        "outputId": "32339b10-8ada-46a0-96e4-10c6b46b74bc"
      },
      "outputs": [
        {
          "data": {
            "image/png": "[encoded data removed]",
            "text/plain": [
              "<IPython.core.display.Image object>"
            ]
          },
          "metadata": {},
          "output_type": "display_data"
        }
      ],
      "source": [
        "from IPython.display import Image, display\n",
        "\n",
        "display(Image(graph.get_graph().draw_mermaid_png()))"
      ]
    },
    {
      "cell_type": "markdown",
      "metadata": {
        "id": "cLciWXq5f769"
      },
      "source": [
        "Awesome, now lets our agent.\n"
      ]
    },
    {
      "cell_type": "code",
      "execution_count": 9,
      "metadata": {
        "colab": {
          "base_uri": "https://localhost:8080/"
        },
        "id": "Ew23XLqUf769",
        "outputId": "302173fa-7e98-4832-ecd9-7454ba8b691e"
      },
      "outputs": [
        {
          "name": "stdout",
          "output_type": "stream",
          "text": [
            "================================\u001b[1m Human Message \u001b[0m=================================\n",
            "\n",
            "How is the weather in Beijing on 1st of April 2025?\n",
            "==================================\u001b[1m Ai Message \u001b[0m==================================\n",
            "Tool Calls:\n",
            "  get_weather_forecast (fdab2bac-0342-485e-9b10-f531ee3ddc27)\n",
            " Call ID: fdab2bac-0342-485e-9b10-f531ee3ddc27\n",
            "  Args:\n",
            "    date: 2025-04-01\n",
            "    location: Beijing\n",
            "=================================\u001b[1m Tool Message \u001b[0m=================================\n",
            "Name: get_weather_forecast\n",
            "\n",
            "{'2025-04-01T00:00': 9.8, '2025-04-01T01:00': 14.3, '2025-04-01T02:00': 18.3, '2025-04-01T03:00': 19.6, '2025-04-01T04:00': 20.4, '2025-04-01T05:00': 20.8, '2025-04-01T06:00': 20.6, '2025-04-01T07:00': 20.8, '2025-04-01T08:00': 18.3, '2025-04-01T09:00': 18.1, '2025-04-01T10:00': 16.8, '2025-04-01T11:00': 15.0, '2025-04-01T12:00': 13.4, '2025-04-01T13:00': 12.2, '2025-04-01T14:00': 11.4, '2025-04-01T15:00': 10.7, '2025-04-01T16:00': 10.1, '2025-04-01T17:00': 9.5, '2025-04-01T18:00': 8.9, '2025-04-01T19:00': 8.2, '2025-04-01T20:00': 7.6, '2025-04-01T21:00': 7.2, '2025-04-01T22:00': 6.8, '2025-04-01T23:00': 7.5}\n",
            "==================================\u001b[1m Ai Message \u001b[0m==================================\n",
            "\n",
            "Okay, here is the weather forecast for Beijing on April 1st, 2025:\n",
            "\n",
            "The temperature will start at 9.8°C at midnight. It will rise quickly in the early morning, reaching a high of about 20.8°C between 5 AM and 7 AM. After that, the temperature is expected to decrease throughout the day, falling to around 13.4°C by noon and reaching a low of 7.5°C by 11 PM.\n"
          ]
        }
      ],
      "source": [
        "# Create our initial message dictionary\n",
        "inputs = {\"messages\": [(\"user\", \"How is the weather in Beijing on 1st of April 2025?\")]}\n",
        "\n",
        "# call our graph with streaming to see the steps\n",
        "\n",
        "for state in graph.stream(inputs, stream_mode=\"values\"):\n",
        "    last_message = state[\"messages\"][-1]\n",
        "    last_message.pretty_print()"
      ]
    },
    {
      "cell_type": "markdown",
      "metadata": {
        "id": "o_9mOxu8f769"
      },
      "source": [
        "We can now continue with our conversation and for example ask for the weather in another city or let it compare it."
      ]
    },
    {
      "cell_type": "code",
      "execution_count": 10,
      "metadata": {
        "colab": {
          "base_uri": "https://localhost:8080/"
        },
        "id": "WWmIvQR2f769",
        "outputId": "7b027230-9a43-4e67-cb7c-95e6ce7ef0e1"
      },
      "outputs": [
        {
          "name": "stdout",
          "output_type": "stream",
          "text": [
            "================================\u001b[1m Human Message \u001b[0m=================================\n",
            "\n",
            "Would it be in Vancouver warmer?\n",
            "==================================\u001b[1m Ai Message \u001b[0m==================================\n",
            "Tool Calls:\n",
            "  get_weather_forecast (6d573b4b-ba73-464f-9b65-63ff0f0d0852)\n",
            " Call ID: 6d573b4b-ba73-464f-9b65-63ff0f0d0852\n",
            "  Args:\n",
            "    date: 2025-04-01\n",
            "    location: Vancouver\n",
            "=================================\u001b[1m Tool Message \u001b[0m=================================\n",
            "Name: get_weather_forecast\n",
            "\n",
            "{'2025-04-01T00:00': 11.8, '2025-04-01T01:00': 11.1, '2025-04-01T02:00': 9.3, '2025-04-01T03:00': 8.2, '2025-04-01T04:00': 7.6, '2025-04-01T05:00': 7.2, '2025-04-01T06:00': 6.9, '2025-04-01T07:00': 6.5, '2025-04-01T08:00': 6.4, '2025-04-01T09:00': 6.5, '2025-04-01T10:00': 6.1, '2025-04-01T11:00': 5.7, '2025-04-01T12:00': 5.5, '2025-04-01T13:00': 5.3, '2025-04-01T14:00': 5.0, '2025-04-01T15:00': 5.2, '2025-04-01T16:00': 7.2, '2025-04-01T17:00': 8.6, '2025-04-01T18:00': 9.4, '2025-04-01T19:00': 9.8, '2025-04-01T20:00': 10.0, '2025-04-01T21:00': 9.9, '2025-04-01T22:00': 10.4, '2025-04-01T23:00': 10.7}\n",
            "==================================\u001b[1m Ai Message \u001b[0m==================================\n",
            "\n",
            "Based on the forecast for April 1st, 2025:\n",
            "\n",
            "*   **Beijing:** Temperatures will range from about 6.8°C to a high of 20.8°C.\n",
            "*   **Vancouver:** Temperatures will range from a low of 5.0°C to a high of 11.8°C.\n",
            "\n",
            "So, no, it will be significantly warmer in Beijing than in Vancouver on that day.\n"
          ]
        }
      ],
      "source": [
        "state[\"messages\"].append((\"user\", \"Would it be in Vancouver warmer?\"))\n",
        "\n",
        "\n",
        "for state in graph.stream(state, stream_mode=\"values\"):\n",
        "    last_message = state[\"messages\"][-1]\n",
        "    last_message.pretty_print()"
      ]
    }
  ],
  "metadata": {
    "colab": {
      "provenance": []
    },
    "kernelspec": {
      "display_name": ".venv",
      "language": "python",
      "name": "python3"
    },
    "language_info": {
      "codemirror_mode": {
        "name": "ipython",
        "version": 3
      },
      "file_extension": ".py",
      "mimetype": "text/x-python",
      "name": "python",
      "nbconvert_exporter": "python",
      "pygments_lexer": "ipython3",
      "version": "3.11.11"
    }
  },
  "nbformat": 4,
  "nbformat_minor": 0
}
